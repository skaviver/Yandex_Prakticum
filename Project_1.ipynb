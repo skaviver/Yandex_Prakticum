{
 "cells": [
  {
   "cell_type": "markdown",
   "metadata": {
    "id": "E0vqbgi9ay0H"
   },
   "source": [
    "# Яндекс.Музыка"
   ]
  },
  {
   "cell_type": "markdown",
   "metadata": {
    "id": "VUC88oWjTJw2"
   },
   "source": [
    "Сравнение Москвы и Петербурга окружено мифами. Например:\n",
    " * Москва — мегаполис, подчинённый жёсткому ритму рабочей недели;\n",
    " * Петербург — культурная столица, со своими вкусами.\n",
    "\n",
    "На данных Яндекс.Музыки вы сравните поведение пользователей двух столиц.\n",
    "\n",
    "**Цель исследования** — проверьте три гипотезы:\n",
    "1. Активность пользователей зависит от дня недели. Причём в Москве и Петербурге это проявляется по-разному.\n",
    "2. В понедельник утром в Москве преобладают одни жанры, а в Петербурге — другие. Так же и вечером пятницы преобладают разные жанры — в зависимости от города. \n",
    "3. Москва и Петербург предпочитают разные жанры музыки. В Москве чаще слушают поп-музыку, в Петербурге — русский рэп.\n",
    "\n",
    "**Ход исследования**\n",
    "\n",
    "Данные о поведении пользователей вы получите из файла `yandex_music_project.csv`. О качестве данных ничего не известно. Поэтому перед проверкой гипотез понадобится обзор данных. \n",
    "\n",
    "Вы проверите данные на ошибки и оцените их влияние на исследование. Затем, на этапе предобработки вы поищете возможность исправить самые критичные ошибки данных.\n",
    " \n",
    "Таким образом, исследование пройдёт в три этапа:\n",
    " 1. Обзор данных.\n",
    " 2. Предобработка данных.\n",
    " 3. Проверка гипотез.\n",
    "\n"
   ]
  },
  {
   "cell_type": "markdown",
   "metadata": {
    "id": "Ml1hmfXC_Zcs"
   },
   "source": [
    "## Обзор данных\n",
    "\n",
    "Составьте первое представление о данных Яндекс.Музыки.\n",
    "\n",
    "\n"
   ]
  },
  {
   "cell_type": "markdown",
   "metadata": {
    "id": "57eAOGIz_Zcs"
   },
   "source": [
    "Основной инструмент аналитика — `pandas`. Импортируйте эту библиотеку."
   ]
  },
  {
   "cell_type": "code",
   "execution_count": 1,
   "metadata": {
    "id": "AXN7PHPN_Zcs"
   },
   "outputs": [],
   "source": [
    "import pandas as pd# импорт библиотеки pandas"
   ]
  },
  {
   "cell_type": "markdown",
   "metadata": {
    "id": "SG23P8tt_Zcs"
   },
   "source": [
    "Прочитайте файл `yandex_music_project.csv` из папки `/datasets` и сохраните его в переменной `df`:"
   ]
  },
  {
   "cell_type": "code",
   "execution_count": 2,
   "metadata": {
    "id": "fFVu7vqh_Zct"
   },
   "outputs": [],
   "source": [
    "df = pd.read_csv('/datasets/yandex_music_project.csv')# чтение файла с данными и сохранение в df"
   ]
  },
  {
   "cell_type": "markdown",
   "metadata": {
    "id": "rDoOMd3uTqnZ"
   },
   "source": [
    "Выведите на экран первые десять строк таблицы:"
   ]
  },
  {
   "cell_type": "code",
   "execution_count": 3,
   "metadata": {
    "id": "oWTVX3gW_Zct"
   },
   "outputs": [
    {
     "data": {
      "text/html": [
       "<div>\n",
       "<style scoped>\n",
       "    .dataframe tbody tr th:only-of-type {\n",
       "        vertical-align: middle;\n",
       "    }\n",
       "\n",
       "    .dataframe tbody tr th {\n",
       "        vertical-align: top;\n",
       "    }\n",
       "\n",
       "    .dataframe thead th {\n",
       "        text-align: right;\n",
       "    }\n",
       "</style>\n",
       "<table border=\"1\" class=\"dataframe\">\n",
       "  <thead>\n",
       "    <tr style=\"text-align: right;\">\n",
       "      <th></th>\n",
       "      <th>userID</th>\n",
       "      <th>Track</th>\n",
       "      <th>artist</th>\n",
       "      <th>genre</th>\n",
       "      <th>City</th>\n",
       "      <th>time</th>\n",
       "      <th>Day</th>\n",
       "    </tr>\n",
       "  </thead>\n",
       "  <tbody>\n",
       "    <tr>\n",
       "      <td>0</td>\n",
       "      <td>FFB692EC</td>\n",
       "      <td>Kamigata To Boots</td>\n",
       "      <td>The Mass Missile</td>\n",
       "      <td>rock</td>\n",
       "      <td>Saint-Petersburg</td>\n",
       "      <td>20:28:33</td>\n",
       "      <td>Wednesday</td>\n",
       "    </tr>\n",
       "    <tr>\n",
       "      <td>1</td>\n",
       "      <td>55204538</td>\n",
       "      <td>Delayed Because of Accident</td>\n",
       "      <td>Andreas Rönnberg</td>\n",
       "      <td>rock</td>\n",
       "      <td>Moscow</td>\n",
       "      <td>14:07:09</td>\n",
       "      <td>Friday</td>\n",
       "    </tr>\n",
       "    <tr>\n",
       "      <td>2</td>\n",
       "      <td>20EC38</td>\n",
       "      <td>Funiculì funiculà</td>\n",
       "      <td>Mario Lanza</td>\n",
       "      <td>pop</td>\n",
       "      <td>Saint-Petersburg</td>\n",
       "      <td>20:58:07</td>\n",
       "      <td>Wednesday</td>\n",
       "    </tr>\n",
       "    <tr>\n",
       "      <td>3</td>\n",
       "      <td>A3DD03C9</td>\n",
       "      <td>Dragons in the Sunset</td>\n",
       "      <td>Fire + Ice</td>\n",
       "      <td>folk</td>\n",
       "      <td>Saint-Petersburg</td>\n",
       "      <td>08:37:09</td>\n",
       "      <td>Monday</td>\n",
       "    </tr>\n",
       "    <tr>\n",
       "      <td>4</td>\n",
       "      <td>E2DC1FAE</td>\n",
       "      <td>Soul People</td>\n",
       "      <td>Space Echo</td>\n",
       "      <td>dance</td>\n",
       "      <td>Moscow</td>\n",
       "      <td>08:34:34</td>\n",
       "      <td>Monday</td>\n",
       "    </tr>\n",
       "    <tr>\n",
       "      <td>5</td>\n",
       "      <td>842029A1</td>\n",
       "      <td>Преданная</td>\n",
       "      <td>IMPERVTOR</td>\n",
       "      <td>rusrap</td>\n",
       "      <td>Saint-Petersburg</td>\n",
       "      <td>13:09:41</td>\n",
       "      <td>Friday</td>\n",
       "    </tr>\n",
       "    <tr>\n",
       "      <td>6</td>\n",
       "      <td>4CB90AA5</td>\n",
       "      <td>True</td>\n",
       "      <td>Roman Messer</td>\n",
       "      <td>dance</td>\n",
       "      <td>Moscow</td>\n",
       "      <td>13:00:07</td>\n",
       "      <td>Wednesday</td>\n",
       "    </tr>\n",
       "    <tr>\n",
       "      <td>7</td>\n",
       "      <td>F03E1C1F</td>\n",
       "      <td>Feeling This Way</td>\n",
       "      <td>Polina Griffith</td>\n",
       "      <td>dance</td>\n",
       "      <td>Moscow</td>\n",
       "      <td>20:47:49</td>\n",
       "      <td>Wednesday</td>\n",
       "    </tr>\n",
       "    <tr>\n",
       "      <td>8</td>\n",
       "      <td>8FA1D3BE</td>\n",
       "      <td>И вновь продолжается бой</td>\n",
       "      <td>NaN</td>\n",
       "      <td>ruspop</td>\n",
       "      <td>Moscow</td>\n",
       "      <td>09:17:40</td>\n",
       "      <td>Friday</td>\n",
       "    </tr>\n",
       "    <tr>\n",
       "      <td>9</td>\n",
       "      <td>E772D5C0</td>\n",
       "      <td>Pessimist</td>\n",
       "      <td>NaN</td>\n",
       "      <td>dance</td>\n",
       "      <td>Saint-Petersburg</td>\n",
       "      <td>21:20:49</td>\n",
       "      <td>Wednesday</td>\n",
       "    </tr>\n",
       "  </tbody>\n",
       "</table>\n",
       "</div>"
      ],
      "text/plain": [
       "     userID                        Track            artist   genre  \\\n",
       "0  FFB692EC            Kamigata To Boots  The Mass Missile    rock   \n",
       "1  55204538  Delayed Because of Accident  Andreas Rönnberg    rock   \n",
       "2    20EC38            Funiculì funiculà       Mario Lanza     pop   \n",
       "3  A3DD03C9        Dragons in the Sunset        Fire + Ice    folk   \n",
       "4  E2DC1FAE                  Soul People        Space Echo   dance   \n",
       "5  842029A1                    Преданная         IMPERVTOR  rusrap   \n",
       "6  4CB90AA5                         True      Roman Messer   dance   \n",
       "7  F03E1C1F             Feeling This Way   Polina Griffith   dance   \n",
       "8  8FA1D3BE     И вновь продолжается бой               NaN  ruspop   \n",
       "9  E772D5C0                    Pessimist               NaN   dance   \n",
       "\n",
       "             City        time        Day  \n",
       "0  Saint-Petersburg  20:28:33  Wednesday  \n",
       "1            Moscow  14:07:09     Friday  \n",
       "2  Saint-Petersburg  20:58:07  Wednesday  \n",
       "3  Saint-Petersburg  08:37:09     Monday  \n",
       "4            Moscow  08:34:34     Monday  \n",
       "5  Saint-Petersburg  13:09:41     Friday  \n",
       "6            Moscow  13:00:07  Wednesday  \n",
       "7            Moscow  20:47:49  Wednesday  \n",
       "8            Moscow  09:17:40     Friday  \n",
       "9  Saint-Petersburg  21:20:49  Wednesday  "
      ]
     },
     "execution_count": 3,
     "metadata": {},
     "output_type": "execute_result"
    }
   ],
   "source": [
    "df.head(10)# получение первых 10 строк таблицы df"
   ]
  },
  {
   "cell_type": "markdown",
   "metadata": {
    "id": "EO73Kwic_Zct"
   },
   "source": [
    "Одной командой получить общую информацию о таблице:"
   ]
  },
  {
   "cell_type": "code",
   "execution_count": 4,
   "metadata": {
    "id": "DSf2kIb-_Zct"
   },
   "outputs": [
    {
     "name": "stdout",
     "output_type": "stream",
     "text": [
      "<class 'pandas.core.frame.DataFrame'>\n",
      "RangeIndex: 65079 entries, 0 to 65078\n",
      "Data columns (total 7 columns):\n",
      "  userID    65079 non-null object\n",
      "Track       63848 non-null object\n",
      "artist      57876 non-null object\n",
      "genre       63881 non-null object\n",
      "  City      65079 non-null object\n",
      "time        65079 non-null object\n",
      "Day         65079 non-null object\n",
      "dtypes: object(7)\n",
      "memory usage: 3.5+ MB\n"
     ]
    }
   ],
   "source": [
    "df.info()# получение общей информации о данных в таблице df"
   ]
  },
  {
   "cell_type": "markdown",
   "metadata": {
    "id": "TaQ2Iwbr_Zct"
   },
   "source": [
    "Итак, в таблице семь столбцов. Тип данных во всех столбцах — `object`.\n",
    "\n",
    "Согласно документации к данным:\n",
    "* `userID`— идентификатор пользователя;\n",
    "* `Track` — название трека;  \n",
    "* `artist` — имя исполнителя;\n",
    "* `genre` — название жанра;\n",
    "* `City` — город пользователя;\n",
    "* `time` — время начала прослушивания;\n",
    "* `Day` — день недели.\n",
    "\n",
    "В названиях колонок видны три нарушения стиля:\n",
    "1. Строчные буквы сочетаются с прописными.\n",
    "2. Встречаются пробелы.\n",
    "3. Найдите ещё одну проблему в названии колонок и опишите её в этом пункте.\n",
    "\n",
    "!Названия колонок таких как: `userID` рекомендуется использовать со змеиным регистром `user_id`\n",
    "\n",
    "\n",
    "\n",
    "Количество значений в столбцах различается. Значит, в данных есть пропущенные значения.\n"
   ]
  },
  {
   "cell_type": "markdown",
   "metadata": {
    "id": "MCB6-dXG_Zct"
   },
   "source": [
    "**Выводы**\n",
    "\n",
    "В каждой строке таблицы — данные о прослушанном треке. Часть колонок описывает саму композицию: название, исполнителя и жанр. Остальные данные рассказывают о пользователе: из какого он города, когда он слушал музыку. \n",
    "\n",
    "Предварительно можно утверждать, что, данных достаточно для проверки гипотез. Но встречаются пропуски в данных, а в названиях колонок — расхождения с хорошим стилем.\n",
    "\n",
    "Чтобы двигаться дальше, нужно устранить проблемы в данных."
   ]
  },
  {
   "cell_type": "markdown",
   "metadata": {
    "id": "SjYF6Ub9_Zct"
   },
   "source": [
    "## Предобработка данных\n",
    "Исправьте стиль в заголовках столбцов, исключите пропуски. Затем проверьте данные на дубликаты."
   ]
  },
  {
   "cell_type": "markdown",
   "metadata": {
    "id": "dIaKXr29_Zct"
   },
   "source": [
    "### Стиль заголовков\n",
    "Выведите на экран названия столбцов:"
   ]
  },
  {
   "cell_type": "code",
   "execution_count": 5,
   "metadata": {
    "id": "oKOTdF_Q_Zct"
   },
   "outputs": [
    {
     "data": {
      "text/plain": [
       "Index(['  userID', 'Track', 'artist', 'genre', '  City  ', 'time', 'Day'], dtype='object')"
      ]
     },
     "execution_count": 5,
     "metadata": {},
     "output_type": "execute_result"
    }
   ],
   "source": [
    "df.columns# перечень названий столбцов таблицы df"
   ]
  },
  {
   "cell_type": "markdown",
   "metadata": {
    "id": "zj5534cv_Zct"
   },
   "source": [
    "Приведите названия в соответствие с хорошим стилем:\n",
    "* несколько слов в названии запишите в «змеином_регистре»,\n",
    "* все символы сделайте строчными,\n",
    "* устраните пробелы.\n",
    "\n",
    "Для этого переименуйте колонки так:\n",
    "* `'  userID'` → `'user_id'`;\n",
    "* `'Track'` → `'track'`;\n",
    "* `'  City  '` → `'city'`;\n",
    "* `'Day'` → `'day'`."
   ]
  },
  {
   "cell_type": "code",
   "execution_count": 6,
   "metadata": {
    "id": "ISlFqs5y_Zct"
   },
   "outputs": [],
   "source": [
    "df = df.rename(columns={'  userID':'user_id', 'Track':'track', '  City  ':'city', 'Day':'day'})# переименование столбцов"
   ]
  },
  {
   "cell_type": "markdown",
   "metadata": {
    "id": "1dqbh00J_Zct"
   },
   "source": [
    "Проверьте результат. Для этого ещё раз выведите на экран названия столбцов:"
   ]
  },
  {
   "cell_type": "code",
   "execution_count": 7,
   "metadata": {
    "id": "d4NOAmTW_Zct"
   },
   "outputs": [
    {
     "data": {
      "text/plain": [
       "Index(['user_id', 'track', 'artist', 'genre', 'city', 'time', 'day'], dtype='object')"
      ]
     },
     "execution_count": 7,
     "metadata": {},
     "output_type": "execute_result"
    }
   ],
   "source": [
    "df.columns# проверка результатов - перечень названий столбцов"
   ]
  },
  {
   "cell_type": "markdown",
   "metadata": {
    "id": "5ISfbcfY_Zct"
   },
   "source": [
    "### Пропуски значений\n",
    "Сначала посчитайте, сколько в таблице пропущенных значений. Для этого достаточно двух методов `pandas`:"
   ]
  },
  {
   "cell_type": "code",
   "execution_count": 8,
   "metadata": {
    "id": "RskX29qr_Zct"
   },
   "outputs": [
    {
     "data": {
      "text/plain": [
       "user_id       0\n",
       "track      1231\n",
       "artist     7203\n",
       "genre      1198\n",
       "city          0\n",
       "time          0\n",
       "day           0\n",
       "dtype: int64"
      ]
     },
     "execution_count": 8,
     "metadata": {},
     "output_type": "execute_result"
    }
   ],
   "source": [
    "df.isna().sum()# подсчёт пропусков"
   ]
  },
  {
   "cell_type": "markdown",
   "metadata": {
    "id": "qubhgnlO_Zct"
   },
   "source": [
    "Не все пропущенные значения влияют на исследование. Так в `track` и `artist` пропуски не важны для вашей работы. Достаточно заменить их явными обозначениями.\n",
    "\n",
    "Но пропуски в `genre` могут помешать сравнению музыкальных вкусов в Москве и Санкт-Петербурге. На практике было бы правильно установить причину пропусков и восстановить данные. Такой возможности нет в учебном проекте. Придётся:\n",
    "* заполнить и эти пропуски явными обозначениями,\n",
    "* оценить, насколько они повредят расчётам. "
   ]
  },
  {
   "cell_type": "markdown",
   "metadata": {
    "id": "fSv2laPA_Zct"
   },
   "source": [
    "Замените пропущенные значения в столбцах `track`, `artist` и `genre` на строку `'unknown'`. Для этого создайте список `columns_to_replace`, переберите его элементы циклом `for` и для каждого столбца выполните замену пропущенных значений:"
   ]
  },
  {
   "cell_type": "code",
   "execution_count": 9,
   "metadata": {
    "id": "KplB5qWs_Zct"
   },
   "outputs": [],
   "source": [
    "columns_to_replace = df\n",
    "for columns in columns_to_replace:\n",
    "    columns_to_replace[columns] = columns_to_replace[columns].fillna('unknown')# перебор названий столбцов в цикле и замена пропущенных значений на 'unknown'"
   ]
  },
  {
   "cell_type": "markdown",
   "metadata": {
    "id": "Ilsm-MZo_Zct"
   },
   "source": [
    "Убедитесь, что в таблице не осталось пропусков. Для этого ещё раз посчитайте пропущенные значения."
   ]
  },
  {
   "cell_type": "code",
   "execution_count": 10,
   "metadata": {
    "id": "Tq4nYRX4_Zct"
   },
   "outputs": [
    {
     "data": {
      "text/plain": [
       "user_id    0\n",
       "track      0\n",
       "artist     0\n",
       "genre      0\n",
       "city       0\n",
       "time       0\n",
       "day        0\n",
       "dtype: int64"
      ]
     },
     "execution_count": 10,
     "metadata": {},
     "output_type": "execute_result"
    }
   ],
   "source": [
    "df.isna().sum()# подсчёт пропусков"
   ]
  },
  {
   "cell_type": "markdown",
   "metadata": {
    "id": "BWKRtBJ3_Zct"
   },
   "source": [
    "### Дубликаты\n",
    "Посчитайте явные дубликаты в таблице одной командой:"
   ]
  },
  {
   "cell_type": "code",
   "execution_count": 11,
   "metadata": {
    "id": "36eES_S0_Zct"
   },
   "outputs": [
    {
     "data": {
      "text/plain": [
       "3826"
      ]
     },
     "execution_count": 11,
     "metadata": {},
     "output_type": "execute_result"
    }
   ],
   "source": [
    "df.duplicated().sum()# подсчёт явных дубликатов"
   ]
  },
  {
   "cell_type": "markdown",
   "metadata": {
    "id": "Ot25h6XR_Zct"
   },
   "source": [
    "Вызовите специальный метод `pandas`, чтобы удалить явные дубликаты:"
   ]
  },
  {
   "cell_type": "code",
   "execution_count": 12,
   "metadata": {
    "id": "exFHq6tt_Zct"
   },
   "outputs": [],
   "source": [
    "df = df.drop_duplicates().reset_index(drop=True)# удаление явных дубликатов (с удалением старых индексов и формированием новых)"
   ]
  },
  {
   "cell_type": "markdown",
   "metadata": {
    "id": "Im2YwBEG_Zct"
   },
   "source": [
    "Ещё раз посчитайте явные дубликаты в таблице — убедитесь, что полностью от них избавились:"
   ]
  },
  {
   "cell_type": "code",
   "execution_count": 13,
   "metadata": {
    "id": "-8PuNWQ0_Zct"
   },
   "outputs": [
    {
     "data": {
      "text/plain": [
       "0"
      ]
     },
     "execution_count": 13,
     "metadata": {},
     "output_type": "execute_result"
    }
   ],
   "source": [
    "df.duplicated().sum()# проверка на отсутствие дубликатов"
   ]
  },
  {
   "cell_type": "markdown",
   "metadata": {
    "id": "QlFBsxAr_Zct"
   },
   "source": [
    "Теперь избавьтесь от неявных дубликатов в колонке `genre`. Например, название одного и того же жанра может быть записано немного по-разному. Такие ошибки тоже повлияют на результат исследования."
   ]
  },
  {
   "cell_type": "markdown",
   "metadata": {
    "id": "eSjWwsOh_Zct"
   },
   "source": [
    "Выведите на экран список уникальных названий жанров, отсортированный в алфавитном порядке. Для этого:\n",
    "* извлеките нужный столбец датафрейма, \n",
    "* примените к нему метод сортировки,\n",
    "* для отсортированного столбца вызовите метод, который вернёт уникальные значения из столбца."
   ]
  },
  {
   "cell_type": "code",
   "execution_count": 14,
   "metadata": {
    "id": "JIUcqzZN_Zct"
   },
   "outputs": [
    {
     "data": {
      "text/plain": [
       "array(['acid', 'acoustic', 'action', 'adult', 'africa', 'afrikaans',\n",
       "       'alternative', 'alternativepunk', 'ambient', 'americana',\n",
       "       'animated', 'anime', 'arabesk', 'arabic', 'arena',\n",
       "       'argentinetango', 'art', 'audiobook', 'author', 'avantgarde',\n",
       "       'axé', 'baile', 'balkan', 'beats', 'bigroom', 'black', 'bluegrass',\n",
       "       'blues', 'bollywood', 'bossa', 'brazilian', 'breakbeat', 'breaks',\n",
       "       'broadway', 'cantautori', 'cantopop', 'canzone', 'caribbean',\n",
       "       'caucasian', 'celtic', 'chamber', 'chanson', 'children', 'chill',\n",
       "       'chinese', 'choral', 'christian', 'christmas', 'classical',\n",
       "       'classicmetal', 'club', 'colombian', 'comedy', 'conjazz',\n",
       "       'contemporary', 'country', 'cuban', 'dance', 'dancehall',\n",
       "       'dancepop', 'dark', 'death', 'deep', 'deutschrock', 'deutschspr',\n",
       "       'dirty', 'disco', 'dnb', 'documentary', 'downbeat', 'downtempo',\n",
       "       'drum', 'dub', 'dubstep', 'eastern', 'easy', 'electronic',\n",
       "       'electropop', 'emo', 'entehno', 'epicmetal', 'estrada', 'ethnic',\n",
       "       'eurofolk', 'european', 'experimental', 'extrememetal', 'fado',\n",
       "       'fairytail', 'film', 'fitness', 'flamenco', 'folk', 'folklore',\n",
       "       'folkmetal', 'folkrock', 'folktronica', 'forró', 'frankreich',\n",
       "       'französisch', 'french', 'funk', 'future', 'gangsta', 'garage',\n",
       "       'german', 'ghazal', 'gitarre', 'glitch', 'gospel', 'gothic',\n",
       "       'grime', 'grunge', 'gypsy', 'handsup', \"hard'n'heavy\", 'hardcore',\n",
       "       'hardstyle', 'hardtechno', 'hip', 'hip-hop', 'hiphop',\n",
       "       'historisch', 'holiday', 'hop', 'horror', 'house', 'hymn', 'idm',\n",
       "       'independent', 'indian', 'indie', 'indipop', 'industrial',\n",
       "       'inspirational', 'instrumental', 'international', 'irish', 'jam',\n",
       "       'japanese', 'jazz', 'jewish', 'jpop', 'jungle', 'k-pop',\n",
       "       'karadeniz', 'karaoke', 'kayokyoku', 'korean', 'laiko', 'latin',\n",
       "       'latino', 'leftfield', 'local', 'lounge', 'loungeelectronic',\n",
       "       'lovers', 'malaysian', 'mandopop', 'marschmusik', 'meditative',\n",
       "       'mediterranean', 'melodic', 'metal', 'metalcore', 'mexican',\n",
       "       'middle', 'minimal', 'miscellaneous', 'modern', 'mood', 'mpb',\n",
       "       'muslim', 'native', 'neoklassik', 'neue', 'new', 'newage',\n",
       "       'newwave', 'nu', 'nujazz', 'numetal', 'oceania', 'old', 'opera',\n",
       "       'orchestral', 'other', 'piano', 'podcasts', 'pop', 'popdance',\n",
       "       'popelectronic', 'popeurodance', 'poprussian', 'post',\n",
       "       'posthardcore', 'postrock', 'power', 'progmetal', 'progressive',\n",
       "       'psychedelic', 'punjabi', 'punk', 'quebecois', 'ragga', 'ram',\n",
       "       'rancheras', 'rap', 'rave', 'reggae', 'reggaeton', 'regional',\n",
       "       'relax', 'religious', 'retro', 'rhythm', 'rnb', 'rnr', 'rock',\n",
       "       'rockabilly', 'rockalternative', 'rockindie', 'rockother',\n",
       "       'romance', 'roots', 'ruspop', 'rusrap', 'rusrock', 'russian',\n",
       "       'salsa', 'samba', 'scenic', 'schlager', 'self', 'sertanejo',\n",
       "       'shanson', 'shoegazing', 'showtunes', 'singer', 'ska', 'skarock',\n",
       "       'slow', 'smooth', 'soft', 'soul', 'soulful', 'sound', 'soundtrack',\n",
       "       'southern', 'specialty', 'speech', 'spiritual', 'sport',\n",
       "       'stonerrock', 'surf', 'swing', 'synthpop', 'synthrock',\n",
       "       'sängerportrait', 'tango', 'tanzorchester', 'taraftar', 'tatar',\n",
       "       'tech', 'techno', 'teen', 'thrash', 'top', 'traditional',\n",
       "       'tradjazz', 'trance', 'tribal', 'trip', 'triphop', 'tropical',\n",
       "       'türk', 'türkçe', 'ukrrock', 'unknown', 'urban', 'uzbek',\n",
       "       'variété', 'vi', 'videogame', 'vocal', 'western', 'world',\n",
       "       'worldbeat', 'ïîï', 'электроника'], dtype=object)"
      ]
     },
     "execution_count": 14,
     "metadata": {},
     "output_type": "execute_result"
    }
   ],
   "source": [
    "df = df.sort_values(by='genre', ascending=True)\n",
    "df['genre'].unique()"
   ]
  },
  {
   "cell_type": "markdown",
   "metadata": {
    "id": "qej-Qmuo_Zct"
   },
   "source": [
    "Просмотрите список и найдите неявные дубликаты названия `hiphop`. Это могут быть названия с ошибками или альтернативные названия того же жанра.\n",
    "\n",
    "Вы увидите следующие неявные дубликаты:\n",
    "* *hip*,\n",
    "* *hop*,\n",
    "* *hip-hop*.\n",
    "\n",
    "Чтобы очистить от них таблицу, напишите функцию `replace_wrong_genres()` с двумя параметрами: \n",
    "* `wrong_genres` — список дубликатов,\n",
    "* `correct_genre` — строка с правильным значением.\n",
    "\n",
    "Функция должна исправить колонку `genre` в таблице `df`: заменить каждое значение из списка `wrong_genres` на значение из `correct_genre`."
   ]
  },
  {
   "cell_type": "code",
   "execution_count": 15,
   "metadata": {
    "id": "ErNDkmns_Zct"
   },
   "outputs": [],
   "source": [
    "def replace_wrong_genres(wrong_genres, correct_genre):\n",
    "    for wrong_value in wrong_genres:\n",
    "        df['genre'] = df['genre'].replace(wrong_genres, correct_genre)\n",
    "# Функция для замены неявных дубликатов"
   ]
  },
  {
   "cell_type": "markdown",
   "metadata": {
    "id": "aDoBJxbA_Zct"
   },
   "source": [
    "Вызовите `replace_wrong_genres()` и передайте ей такие аргументы, чтобы она устранила неявные дубликаты: вместо `hip`, `hop` и `hip-hop` в таблице должно быть значение `hiphop`:"
   ]
  },
  {
   "cell_type": "code",
   "execution_count": 16,
   "metadata": {
    "id": "YN5i2hpmSo09"
   },
   "outputs": [],
   "source": [
    "duplicated = ['hip', 'hop', 'hip-hop']\n",
    "name = 'hiphop'\n",
    "replace_wrong_genres(duplicated, name)# Устранение неявных дубликатов"
   ]
  },
  {
   "cell_type": "markdown",
   "metadata": {
    "id": "zQKF16_RG15m"
   },
   "source": [
    "Проверьте, что заменили неправильные названия:\n",
    "\n",
    "*   hip\n",
    "*   hop\n",
    "*   hip-hop\n",
    "\n",
    "Выведите отсортированный список уникальных значений столбца `genre`:"
   ]
  },
  {
   "cell_type": "code",
   "execution_count": 17,
   "metadata": {
    "id": "wvixALnFG15m"
   },
   "outputs": [
    {
     "data": {
      "text/plain": [
       "array(['acid', 'acoustic', 'action', 'adult', 'africa', 'afrikaans',\n",
       "       'alternative', 'alternativepunk', 'ambient', 'americana',\n",
       "       'animated', 'anime', 'arabesk', 'arabic', 'arena',\n",
       "       'argentinetango', 'art', 'audiobook', 'author', 'avantgarde',\n",
       "       'axé', 'baile', 'balkan', 'beats', 'bigroom', 'black', 'bluegrass',\n",
       "       'blues', 'bollywood', 'bossa', 'brazilian', 'breakbeat', 'breaks',\n",
       "       'broadway', 'cantautori', 'cantopop', 'canzone', 'caribbean',\n",
       "       'caucasian', 'celtic', 'chamber', 'chanson', 'children', 'chill',\n",
       "       'chinese', 'choral', 'christian', 'christmas', 'classical',\n",
       "       'classicmetal', 'club', 'colombian', 'comedy', 'conjazz',\n",
       "       'contemporary', 'country', 'cuban', 'dance', 'dancehall',\n",
       "       'dancepop', 'dark', 'death', 'deep', 'deutschrock', 'deutschspr',\n",
       "       'dirty', 'disco', 'dnb', 'documentary', 'downbeat', 'downtempo',\n",
       "       'drum', 'dub', 'dubstep', 'eastern', 'easy', 'electronic',\n",
       "       'electropop', 'emo', 'entehno', 'epicmetal', 'estrada', 'ethnic',\n",
       "       'eurofolk', 'european', 'experimental', 'extrememetal', 'fado',\n",
       "       'fairytail', 'film', 'fitness', 'flamenco', 'folk', 'folklore',\n",
       "       'folkmetal', 'folkrock', 'folktronica', 'forró', 'frankreich',\n",
       "       'französisch', 'french', 'funk', 'future', 'gangsta', 'garage',\n",
       "       'german', 'ghazal', 'gitarre', 'glitch', 'gospel', 'gothic',\n",
       "       'grime', 'grunge', 'gypsy', 'handsup', \"hard'n'heavy\", 'hardcore',\n",
       "       'hardstyle', 'hardtechno', 'hiphop', 'historisch', 'holiday',\n",
       "       'horror', 'house', 'hymn', 'idm', 'independent', 'indian', 'indie',\n",
       "       'indipop', 'industrial', 'inspirational', 'instrumental',\n",
       "       'international', 'irish', 'jam', 'japanese', 'jazz', 'jewish',\n",
       "       'jpop', 'jungle', 'k-pop', 'karadeniz', 'karaoke', 'kayokyoku',\n",
       "       'korean', 'laiko', 'latin', 'latino', 'leftfield', 'local',\n",
       "       'lounge', 'loungeelectronic', 'lovers', 'malaysian', 'mandopop',\n",
       "       'marschmusik', 'meditative', 'mediterranean', 'melodic', 'metal',\n",
       "       'metalcore', 'mexican', 'middle', 'minimal', 'miscellaneous',\n",
       "       'modern', 'mood', 'mpb', 'muslim', 'native', 'neoklassik', 'neue',\n",
       "       'new', 'newage', 'newwave', 'nu', 'nujazz', 'numetal', 'oceania',\n",
       "       'old', 'opera', 'orchestral', 'other', 'piano', 'podcasts', 'pop',\n",
       "       'popdance', 'popelectronic', 'popeurodance', 'poprussian', 'post',\n",
       "       'posthardcore', 'postrock', 'power', 'progmetal', 'progressive',\n",
       "       'psychedelic', 'punjabi', 'punk', 'quebecois', 'ragga', 'ram',\n",
       "       'rancheras', 'rap', 'rave', 'reggae', 'reggaeton', 'regional',\n",
       "       'relax', 'religious', 'retro', 'rhythm', 'rnb', 'rnr', 'rock',\n",
       "       'rockabilly', 'rockalternative', 'rockindie', 'rockother',\n",
       "       'romance', 'roots', 'ruspop', 'rusrap', 'rusrock', 'russian',\n",
       "       'salsa', 'samba', 'scenic', 'schlager', 'self', 'sertanejo',\n",
       "       'shanson', 'shoegazing', 'showtunes', 'singer', 'ska', 'skarock',\n",
       "       'slow', 'smooth', 'soft', 'soul', 'soulful', 'sound', 'soundtrack',\n",
       "       'southern', 'specialty', 'speech', 'spiritual', 'sport',\n",
       "       'stonerrock', 'surf', 'swing', 'synthpop', 'synthrock',\n",
       "       'sängerportrait', 'tango', 'tanzorchester', 'taraftar', 'tatar',\n",
       "       'tech', 'techno', 'teen', 'thrash', 'top', 'traditional',\n",
       "       'tradjazz', 'trance', 'tribal', 'trip', 'triphop', 'tropical',\n",
       "       'türk', 'türkçe', 'ukrrock', 'unknown', 'urban', 'uzbek',\n",
       "       'variété', 'vi', 'videogame', 'vocal', 'western', 'world',\n",
       "       'worldbeat', 'ïîï', 'электроника'], dtype=object)"
      ]
     },
     "execution_count": 17,
     "metadata": {},
     "output_type": "execute_result"
    }
   ],
   "source": [
    "df['genre'].unique()# Проверка на неявные дубликаты"
   ]
  },
  {
   "cell_type": "markdown",
   "metadata": {
    "id": "jz6a9-7HQUDd"
   },
   "source": [
    "**Выводы**\n",
    "\n",
    "Предобработка обнаружила три проблемы в данных:\n",
    "\n",
    "- нарушения в стиле заголовков,\n",
    "- пропущенные значения,\n",
    "- дубликаты — явные и неявные.\n",
    "\n",
    "Вы исправили заголовки, чтобы упростить работу с таблицей. Без дубликатов исследование станет более точным.\n",
    "\n",
    "Пропущенные значения вы заменили на `'unknown'`. Ещё предстоит увидеть, не повредят ли исследованию пропуски в колонке `genre`.\n",
    "\n",
    "Теперь можно перейти к проверке гипотез. "
   ]
  },
  {
   "cell_type": "markdown",
   "metadata": {
    "id": "WttZHXH0SqKk"
   },
   "source": [
    "## Проверка гипотез"
   ]
  },
  {
   "cell_type": "markdown",
   "metadata": {
    "id": "Im936VVi_Zcu"
   },
   "source": [
    "### Сравнение поведения пользователей двух столиц"
   ]
  },
  {
   "cell_type": "markdown",
   "metadata": {
    "id": "nwt_MuaL_Zcu"
   },
   "source": [
    "Первая гипотеза утверждает, что пользователи по-разному слушают музыку в Москве и Санкт-Петербурге. Проверьте это предположение по данным о трёх днях недели — понедельнике, среде и пятнице. Для этого:\n",
    "\n",
    "* Разделите пользователей Москвы и Санкт-Петербурга\n",
    "* Сравните, сколько треков послушала каждая группа пользователей в понедельник, среду и пятницу.\n"
   ]
  },
  {
   "cell_type": "markdown",
   "metadata": {
    "id": "8Dw_YMmT_Zcu"
   },
   "source": [
    "Для тренировки сначала выполните каждый из расчётов по отдельности. \n",
    "\n",
    "Оцените активность пользователей в каждом городе. Сгруппируйте данные по городу и посчитайте прослушивания в каждой группе.\n",
    "\n"
   ]
  },
  {
   "cell_type": "code",
   "execution_count": 18,
   "metadata": {
    "id": "0_Qs96oh_Zcu",
    "scrolled": false
   },
   "outputs": [
    {
     "data": {
      "text/plain": [
       "city\n",
       "Moscow              42741\n",
       "Saint-Petersburg    18512\n",
       "Name: user_id, dtype: int64"
      ]
     },
     "execution_count": 18,
     "metadata": {},
     "output_type": "execute_result"
    }
   ],
   "source": [
    "df.groupby('city')['user_id'].count()"
   ]
  },
  {
   "cell_type": "markdown",
   "metadata": {
    "id": "dzli3w8o_Zcu"
   },
   "source": [
    "В Москве прослушиваний больше, чем в Петербурге. Из этого не следует, что московские пользователи чаще слушают музыку. Просто самих пользователей в Москве больше.\n",
    "\n",
    "Теперь сгруппируйте данные по дню недели и подсчитайте прослушивания в понедельник, среду и пятницу. Учтите, что в данных есть информация только о прослушиваниях только за эти дни.\n"
   ]
  },
  {
   "cell_type": "code",
   "execution_count": 19,
   "metadata": {
    "id": "uZMKjiJz_Zcu"
   },
   "outputs": [
    {
     "data": {
      "text/plain": [
       "day\n",
       "Friday       21840\n",
       "Monday       21354\n",
       "Wednesday    18059\n",
       "Name: user_id, dtype: int64"
      ]
     },
     "execution_count": 19,
     "metadata": {},
     "output_type": "execute_result"
    }
   ],
   "source": [
    "df.groupby('day')['user_id'].count()# Подсчёт прослушиваний в каждый из трёх дней"
   ]
  },
  {
   "cell_type": "markdown",
   "metadata": {
    "id": "cC2tNrlL_Zcu"
   },
   "source": [
    "В среднем пользователи из двух городов менее активны по средам. Но картина может измениться, если рассмотреть каждый город в отдельности."
   ]
  },
  {
   "cell_type": "markdown",
   "metadata": {
    "id": "POzs8bGa_Zcu"
   },
   "source": [
    "Вы видели, как работает группировка по городу и по дням недели. Теперь напишите функцию, которая объединит два эти расчёта.\n",
    "\n",
    "Создайте функцию `number_tracks()`, которая посчитает прослушивания для заданного дня и города. Ей понадобятся два параметра:\n",
    "* день недели,\n",
    "* название города.\n",
    "\n",
    "В функции сохраните в переменную строки исходной таблицы, у которых значение:\n",
    "  * в колонке `day` равно параметру `day`,\n",
    "  * в колонке `city` равно параметру `city`.\n",
    "\n",
    "Для этого примените последовательную фильтрацию с логической индексацией.\n",
    "\n",
    "Затем посчитайте значения в столбце `user_id` получившейся таблицы. Результат сохраните в новую переменную. Верните эту переменную из функции."
   ]
  },
  {
   "cell_type": "code",
   "execution_count": 20,
   "metadata": {
    "id": "Nz3GdQB1_Zcu"
   },
   "outputs": [],
   "source": [
    "def number_tracks(day, city):\n",
    "    track_list=df[(df['day']==day) & (df['city']==city)]#мб # Объявляется функция с двумя параметрами: day, city.\n",
    "    track_list_count = track_list['user_id'].count()\n",
    "    return track_list_count\n",
    "# В переменной track_list сохраняются те строки таблицы df, для которых \n",
    "# значение в столбце 'day' равно параметру day и одновременно значение\n",
    "# в столбце 'city' равно параметру city (используйте последовательную фильтрацию\n",
    "# с помощью логической индексации).\n",
    "# В переменной track_list_count сохраняется число значений столбца 'user_id',\n",
    "# рассчитанное методом count() для таблицы track_list.\n",
    "# Функция возвращает число - значение track_list_count.\n",
    "\n",
    "# Функция для подсчёта прослушиваний для конкретного города и дня.\n",
    "# С помощью последовательной фильтрации с логической индексацией она \n",
    "# сначала получит из исходной таблицы строки с нужным днём,\n",
    "# затем из результата отфильтрует строки с нужным городом,\n",
    "# методом count() посчитает количество значений в колонке user_id. \n",
    "# Это количество функция вернёт в качестве результата"
   ]
  },
  {
   "cell_type": "markdown",
   "metadata": {
    "id": "ytf7xFrFJQ2r"
   },
   "source": [
    "Вызовите `number_tracks()` шесть раз, меняя значение параметров — так, чтобы получить данные для каждого города в каждый из трёх дней."
   ]
  },
  {
   "cell_type": "code",
   "execution_count": 21,
   "metadata": {
    "id": "rJcRATNQ_Zcu"
   },
   "outputs": [
    {
     "data": {
      "text/plain": [
       "15740"
      ]
     },
     "execution_count": 21,
     "metadata": {},
     "output_type": "execute_result"
    }
   ],
   "source": [
    "number_tracks('Monday', 'Moscow')# количество прослушиваний в Москве по понедельникам"
   ]
  },
  {
   "cell_type": "code",
   "execution_count": 22,
   "metadata": {
    "id": "hq_ncZ5T_Zcu"
   },
   "outputs": [
    {
     "data": {
      "text/plain": [
       "5614"
      ]
     },
     "execution_count": 22,
     "metadata": {},
     "output_type": "execute_result"
    }
   ],
   "source": [
    "number_tracks('Monday', 'Saint-Petersburg')# количество прослушиваний в Санкт-Петербурге по понедельникам"
   ]
  },
  {
   "cell_type": "code",
   "execution_count": 23,
   "metadata": {
    "id": "_NTy2VPU_Zcu"
   },
   "outputs": [
    {
     "data": {
      "text/plain": [
       "11056"
      ]
     },
     "execution_count": 23,
     "metadata": {},
     "output_type": "execute_result"
    }
   ],
   "source": [
    "number_tracks('Wednesday', 'Moscow')# количество прослушиваний в Москве по средам"
   ]
  },
  {
   "cell_type": "code",
   "execution_count": 24,
   "metadata": {
    "id": "j2y3TAwo_Zcu"
   },
   "outputs": [
    {
     "data": {
      "text/plain": [
       "7003"
      ]
     },
     "execution_count": 24,
     "metadata": {},
     "output_type": "execute_result"
    }
   ],
   "source": [
    "number_tracks('Wednesday', 'Saint-Petersburg')# количество прослушиваний в Санкт-Петербурге по средам"
   ]
  },
  {
   "cell_type": "code",
   "execution_count": 25,
   "metadata": {
    "id": "vYDw5u_K_Zcu"
   },
   "outputs": [
    {
     "data": {
      "text/plain": [
       "15945"
      ]
     },
     "execution_count": 25,
     "metadata": {},
     "output_type": "execute_result"
    }
   ],
   "source": [
    "number_tracks('Friday', 'Moscow')# количество прослушиваний в Москве по пятницам"
   ]
  },
  {
   "cell_type": "code",
   "execution_count": 26,
   "metadata": {
    "id": "8_yzFtW3_Zcu"
   },
   "outputs": [
    {
     "data": {
      "text/plain": [
       "5895"
      ]
     },
     "execution_count": 26,
     "metadata": {},
     "output_type": "execute_result"
    }
   ],
   "source": [
    "number_tracks('Friday', 'Saint-Petersburg')# количество прослушиваний в Санкт-Петербурге по пятницам"
   ]
  },
  {
   "cell_type": "markdown",
   "metadata": {
    "id": "7QXffbO-_Zcu"
   },
   "source": [
    "Создайте c помощью конструктора `pd.DataFrame` таблицу, где\n",
    "* названия колонок — `['city', 'monday', 'wednesday', 'friday']`;\n",
    "* данные — результаты, которые вы получили с помощью `number_tracks`."
   ]
  },
  {
   "cell_type": "code",
   "execution_count": 27,
   "metadata": {
    "id": "APAcLpOr_Zcu"
   },
   "outputs": [
    {
     "data": {
      "text/html": [
       "<div>\n",
       "<style scoped>\n",
       "    .dataframe tbody tr th:only-of-type {\n",
       "        vertical-align: middle;\n",
       "    }\n",
       "\n",
       "    .dataframe tbody tr th {\n",
       "        vertical-align: top;\n",
       "    }\n",
       "\n",
       "    .dataframe thead th {\n",
       "        text-align: right;\n",
       "    }\n",
       "</style>\n",
       "<table border=\"1\" class=\"dataframe\">\n",
       "  <thead>\n",
       "    <tr style=\"text-align: right;\">\n",
       "      <th></th>\n",
       "      <th>city</th>\n",
       "      <th>monday</th>\n",
       "      <th>wednesday</th>\n",
       "      <th>friday</th>\n",
       "    </tr>\n",
       "  </thead>\n",
       "  <tbody>\n",
       "    <tr>\n",
       "      <td>0</td>\n",
       "      <td>Moscow</td>\n",
       "      <td>15740</td>\n",
       "      <td>11056</td>\n",
       "      <td>15945</td>\n",
       "    </tr>\n",
       "    <tr>\n",
       "      <td>1</td>\n",
       "      <td>Saint-Petersburg</td>\n",
       "      <td>5614</td>\n",
       "      <td>7003</td>\n",
       "      <td>5895</td>\n",
       "    </tr>\n",
       "  </tbody>\n",
       "</table>\n",
       "</div>"
      ],
      "text/plain": [
       "               city  monday  wednesday  friday\n",
       "0            Moscow   15740      11056   15945\n",
       "1  Saint-Petersburg    5614       7003    5895"
      ]
     },
     "execution_count": 27,
     "metadata": {},
     "output_type": "execute_result"
    }
   ],
   "source": [
    "data = [\n",
    "    ['Moscow', 15740, 11056, 15945],\n",
    "    ['Saint-Petersburg', 5614, 7003, 5895]\n",
    "] \n",
    "columns = ['city', 'monday', 'wednesday', 'friday'] \n",
    "table = pd.DataFrame(data = data, columns = columns)\n",
    "table.head(100)# Таблица с результатами"
   ]
  },
  {
   "cell_type": "markdown",
   "metadata": {
    "id": "-EgPIHYu_Zcu"
   },
   "source": [
    "**Выводы**\n",
    "\n",
    "Данные показывают разницу поведения пользователей:\n",
    "\n",
    "- В Москве пик прослушиваний приходится на понедельник и пятницу, а в среду заметен спад.\n",
    "- В Петербурге, наоборот, больше слушают музыку по средам. Активность в понедельник и пятницу здесь почти в равной мере уступает среде.\n",
    "\n",
    "Значит, данные говорят в пользу первой гипотезы."
   ]
  },
  {
   "cell_type": "markdown",
   "metadata": {
    "id": "atZAxtq4_Zcu"
   },
   "source": [
    "### Музыка в начале и в конце недели"
   ]
  },
  {
   "cell_type": "markdown",
   "metadata": {
    "id": "eXrQqXFH_Zcu"
   },
   "source": [
    "Согласно второй гипотезе, утром в понедельник в Москве преобладают одни жанры, а в Петербурге — другие. Так же и вечером пятницы преобладают разные жанры — в зависимости от города."
   ]
  },
  {
   "cell_type": "markdown",
   "metadata": {
    "id": "S8UcW6Hw_Zcu"
   },
   "source": [
    "Сохраните таблицы с данными в две переменные:\n",
    "* по Москве — в `moscow_general`;\n",
    "* по Санкт-Петербургу — в `spb_general`."
   ]
  },
  {
   "cell_type": "code",
   "execution_count": 28,
   "metadata": {
    "id": "qeaFfM_P_Zcu"
   },
   "outputs": [],
   "source": [
    "moscow_general = df[df['city'] == 'Moscow']# получение таблицы moscow_general из тех строк таблицы df, \n",
    "# для которых значение в столбце 'city' равно 'Moscow'\n"
   ]
  },
  {
   "cell_type": "code",
   "execution_count": 29,
   "metadata": {
    "id": "ORaVRKto_Zcu"
   },
   "outputs": [],
   "source": [
    "spb_general = df[df['city'] == 'Saint-Petersburg']## получение таблицы spb_general из тех строк таблицы df,\n",
    "# для которых значение в столбце 'city' равно 'Saint-Petersburg'\n"
   ]
  },
  {
   "cell_type": "markdown",
   "metadata": {
    "id": "MEJV-CX2_Zcu"
   },
   "source": [
    "Создайте функцию `genre_weekday()` с четырьмя параметрами:\n",
    "* таблица (датафрейм) с данными,\n",
    "* день недели,\n",
    "* начальная временная метка в формате 'hh:mm', \n",
    "* последняя временная метка в формате 'hh:mm'.\n",
    "\n",
    "Функция должна вернуть информацию о топ-10 жанров тех треков, которые прослушивали в указанный день, в промежутке между двумя отметками времени."
   ]
  },
  {
   "cell_type": "code",
   "execution_count": 30,
   "metadata": {
    "id": "laJT9BYl_Zcu"
   },
   "outputs": [],
   "source": [
    "def genre_weekday(table, day, time1, time2):\n",
    "    genre_df = table[(table['day'] == day) & (table['time'] > time1) & (table['time'] < time2)]\n",
    "    genre_df_count = genre_df.groupby('genre')['genre'].count()\n",
    "    genre_df_sorted = genre_df_count.sort_values(ascending = False)\n",
    "    return genre_df_sorted.head(10)\n",
    "    \n",
    "    \n",
    "    # Объявление функции genre_weekday() с параметрами table, day, time1, time2,\n",
    "    #genre_df = table[(table['day'] == day)&(table['time'] > time1)&(table['time'] < time2)]\n",
    "    #genre_df_count = genre_df.groupby('genre')['genre'].count()\n",
    "    #genre_df_sorted = genre_df_count.sort_value(ascending=False)\n",
    "    \n",
    "# в переменной genre_list_sorted сохраняются в порядке убывания  \n",
    "# первые 10 значений Series, полученной подсчётом числа значений 'genre_name'\n",
    "# сгруппированной по столбцу 'genre_name' таблицы genre_list\n",
    "    \n",
    "# функция возвращает значение genre_list_sorted\n",
    "    \n",
    "    #return genre_df_sorted.head(10)\n",
    "    # которая возвращает информацию о самых популярных жанрах в указанный день в\n",
    "# заданное время:\n",
    "# 1) в переменную genre_df сохраняются те строки переданного датафрейма table, для\n",
    "#    которых одновременно:\n",
    "#    - значение в столбце day равно значению аргумента day\n",
    "#    - значение в столбце time больше значения аргумента time1\n",
    "#    - значение в столбце time меньше значения аргумента time2\n",
    "#    Используйте последовательную фильтрацию с помощью логической индексации.\n",
    "# 2) сгруппировать датафрейм genre_df по столбцу genre, взять один из его\n",
    "#    столбцов и посчитать методом count() количество записей для каждого из\n",
    "#    присутствующих жанров, получившийся Series записать в переменную\n",
    "#    genre_df_count\n",
    "# 3) отсортировать genre_df_count по убыванию встречаемости и сохранить\n",
    "#    в переменную genre_df_sorted\n",
    "# 4) вернуть Series из 10 первых значений genre_df_sorted, это будут топ-10\n",
    "#    популярных жанров (в указанный день, в заданное время)"
   ]
  },
  {
   "cell_type": "markdown",
   "metadata": {
    "id": "la2s2_PF_Zcu"
   },
   "source": [
    "Cравните результаты функции `genre_weekday()` для Москвы и Санкт-Петербурга в понедельник утром (с 7:00 до 11:00) и в пятницу вечером (с 17:00 до 23:00):"
   ]
  },
  {
   "cell_type": "code",
   "execution_count": 31,
   "metadata": {
    "id": "yz7itPUQ_Zcu"
   },
   "outputs": [
    {
     "data": {
      "text/plain": [
       "genre\n",
       "pop            781\n",
       "dance          549\n",
       "electronic     480\n",
       "rock           474\n",
       "hiphop         286\n",
       "ruspop         186\n",
       "world          181\n",
       "rusrap         175\n",
       "alternative    164\n",
       "unknown        161\n",
       "Name: genre, dtype: int64"
      ]
     },
     "execution_count": 31,
     "metadata": {},
     "output_type": "execute_result"
    }
   ],
   "source": [
    "genre_weekday(moscow_general, 'Monday', '07:00', '11:00')# вызов функции для утра понедельника в Москве (вместо df — таблица moscow_general)\n",
    "# объекты, хранящие время, являются строками и сравниваются как строки\n",
    "# пример вызова: genre_weekday(moscow_general, 'Monday', '07:00', '11:00')"
   ]
  },
  {
   "cell_type": "code",
   "execution_count": 32,
   "metadata": {
    "id": "kwUcHPdy_Zcu"
   },
   "outputs": [
    {
     "data": {
      "text/plain": [
       "genre\n",
       "pop            218\n",
       "dance          182\n",
       "rock           162\n",
       "electronic     147\n",
       "hiphop          80\n",
       "ruspop          64\n",
       "alternative     58\n",
       "rusrap          55\n",
       "jazz            44\n",
       "classical       40\n",
       "Name: genre, dtype: int64"
      ]
     },
     "execution_count": 32,
     "metadata": {},
     "output_type": "execute_result"
    }
   ],
   "source": [
    "genre_weekday(spb_general, 'Monday', '07:00', '11:00')# вызов функции для утра понедельника в Петербурге (вместо df — таблица spb_general)"
   ]
  },
  {
   "cell_type": "code",
   "execution_count": 33,
   "metadata": {
    "id": "EzXVRE1o_Zcu"
   },
   "outputs": [
    {
     "data": {
      "text/plain": [
       "genre\n",
       "pop            713\n",
       "rock           517\n",
       "dance          495\n",
       "electronic     482\n",
       "hiphop         273\n",
       "world          208\n",
       "ruspop         170\n",
       "alternative    163\n",
       "classical      163\n",
       "rusrap         142\n",
       "Name: genre, dtype: int64"
      ]
     },
     "execution_count": 33,
     "metadata": {},
     "output_type": "execute_result"
    }
   ],
   "source": [
    "genre_weekday(moscow_general, 'Friday', '17:00', '23:00')# вызов функции для вечера пятницы в Москве"
   ]
  },
  {
   "cell_type": "code",
   "execution_count": 34,
   "metadata": {
    "id": "JZaEKu5v_Zcu"
   },
   "outputs": [
    {
     "data": {
      "text/plain": [
       "genre\n",
       "pop            256\n",
       "rock           216\n",
       "electronic     216\n",
       "dance          210\n",
       "hiphop          97\n",
       "alternative     63\n",
       "jazz            61\n",
       "classical       60\n",
       "rusrap          59\n",
       "world           54\n",
       "Name: genre, dtype: int64"
      ]
     },
     "execution_count": 34,
     "metadata": {},
     "output_type": "execute_result"
    }
   ],
   "source": [
    "genre_weekday(spb_general, 'Friday', '17:00', '23:00')# вызов функции для вечера пятницы в Петербурге"
   ]
  },
  {
   "cell_type": "markdown",
   "metadata": {
    "id": "wrCe4MNX_Zcu"
   },
   "source": [
    "**Выводы**\n",
    "\n",
    "Если сравнить топ-10 жанров в понедельник утром, можно сделать такие выводы:\n",
    "\n",
    "1. В Москве и Петербурге слушают похожую музыку. Единственное отличие — в московский рейтинг вошёл жанр “world”, а в петербургский — джаз и классика.\n",
    "\n",
    "2. В Москве пропущенных значений оказалось так много, что значение `'unknown'` заняло десятое место среди самых популярных жанров. Значит, пропущенные значения занимают существенную долю в данных и угрожают достоверности исследования.\n",
    "\n",
    "Вечер пятницы не меняет эту картину. Некоторые жанры поднимаются немного выше, другие спускаются, но в целом топ-10 остаётся тем же самым.\n",
    "\n",
    "Таким образом, вторая гипотеза подтвердилась лишь частично:\n",
    "* Пользователи слушают похожую музыку в начале недели и в конце.\n",
    "* Разница между Москвой и Петербургом не слишком выражена. В Москве чаще слушают русскую популярную музыку, в Петербурге — джаз.\n",
    "\n",
    "Однако пропуски в данных ставят под сомнение этот результат. В Москве их так много, что рейтинг топ-10 мог бы выглядеть иначе, если бы не утерянные  данные о жанрах."
   ]
  },
  {
   "cell_type": "markdown",
   "metadata": {
    "id": "JolODAqr_Zcu"
   },
   "source": [
    "### Жанровые предпочтения в Москве и Петербурге\n",
    "\n",
    "Гипотеза: Петербург — столица рэпа, музыку этого жанра там слушают чаще, чем в Москве.  А Москва — город контрастов, в котором, тем не менее, преобладает поп-музыка."
   ]
  },
  {
   "cell_type": "markdown",
   "metadata": {
    "id": "DlegSvaT_Zcu"
   },
   "source": [
    "Сгруппируйте таблицу `moscow_general` по жанру и посчитайте прослушивания треков каждого жанра методом `count()`. Затем отсортируйте результат в порядке убывания и сохраните его в таблице `moscow_genres`."
   ]
  },
  {
   "cell_type": "code",
   "execution_count": 35,
   "metadata": {
    "id": "r19lIPke_Zcu"
   },
   "outputs": [],
   "source": [
    "moscow_genres = moscow_general.groupby('genre')['genre'].count().sort_values(ascending = False)\n",
    "\n",
    "\n",
    "\n",
    "# одной строкой: группировка таблицы moscow_general по столбцу 'genre', \n",
    "# подсчёт числа значений 'genre' в этой группировке методом count(), \n",
    "# сортировка получившегося Series в порядке убывания и сохранение в moscow_genres"
   ]
  },
  {
   "cell_type": "markdown",
   "metadata": {
    "id": "6kMuomxTiIr8"
   },
   "source": [
    "Выведите на экран первые десять строк `moscow_genres`:"
   ]
  },
  {
   "cell_type": "code",
   "execution_count": 36,
   "metadata": {
    "id": "WhCSooF8_Zcv"
   },
   "outputs": [
    {
     "name": "stdout",
     "output_type": "stream",
     "text": [
      "genre\n",
      "pop            5892\n",
      "dance          4435\n",
      "rock           3965\n",
      "electronic     3786\n",
      "hiphop         2096\n",
      "classical      1616\n",
      "world          1432\n",
      "alternative    1379\n",
      "ruspop         1372\n",
      "rusrap         1161\n",
      "Name: genre, dtype: int64\n"
     ]
    }
   ],
   "source": [
    "print(moscow_genres.head(10))# просмотр первых 10 строк moscow_genres"
   ]
  },
  {
   "cell_type": "markdown",
   "metadata": {
    "id": "cnPG2vnN_Zcv"
   },
   "source": [
    "Теперь повторите то же и для Петербурга.\n",
    "\n",
    "Сгруппируйте таблицу `spb_general` по жанру. Посчитайте прослушивания треков каждого жанра. Результат отсортируйте в порядке убывания и сохраните в таблице `spb_genres`:\n"
   ]
  },
  {
   "cell_type": "code",
   "execution_count": 37,
   "metadata": {
    "id": "gluLIpE7_Zcv"
   },
   "outputs": [],
   "source": [
    "spb_genres = spb_general.groupby('genre')['genre'].count().sort_values(ascending = False)\n",
    "# одной строкой: группировка таблицы spb_general по столбцу 'genre', \n",
    "# подсчёт числа значений 'genre' в этой группировке методом count(), \n",
    "# сортировка получившегося Series в порядке убывания и сохранение в spb_genres"
   ]
  },
  {
   "cell_type": "markdown",
   "metadata": {
    "id": "5Doha_ODgyQ8"
   },
   "source": [
    "Выведите на экран первые десять строк `spb_genres`:"
   ]
  },
  {
   "cell_type": "code",
   "execution_count": 38,
   "metadata": {
    "id": "uaGJHjVU_Zcv"
   },
   "outputs": [
    {
     "name": "stdout",
     "output_type": "stream",
     "text": [
      "genre\n",
      "pop            2431\n",
      "dance          1932\n",
      "rock           1879\n",
      "electronic     1736\n",
      "hiphop          960\n",
      "alternative     649\n",
      "classical       646\n",
      "rusrap          564\n",
      "ruspop          538\n",
      "world           515\n",
      "Name: genre, dtype: int64\n"
     ]
    }
   ],
   "source": [
    "print(spb_genres.head(10))# просмотр первых 10 строк spb_genres"
   ]
  },
  {
   "cell_type": "markdown",
   "metadata": {
    "id": "RY51YJYu_Zcv"
   },
   "source": [
    "**Выводы**"
   ]
  },
  {
   "cell_type": "markdown",
   "metadata": {
    "id": "nVhnJEm__Zcv"
   },
   "source": [
    "Гипотеза частично подтвердилась:\n",
    "* Поп-музыка — самый популярный жанр в Москве, как и предполагала гипотеза. Более того, в топ-10 жанров встречается близкий жанр — русская популярная музыка.\n",
    "* Вопреки ожиданиям, рэп одинаково популярен в Москве и Петербурге. \n"
   ]
  },
  {
   "cell_type": "markdown",
   "metadata": {
    "id": "ykKQ0N65_Zcv"
   },
   "source": [
    "## Итоги исследования"
   ]
  },
  {
   "cell_type": "markdown",
   "metadata": {
    "id": "tjUwbHb3_Zcv"
   },
   "source": [
    "Вы проверили три гипотезы и установили:\n",
    "\n",
    "1. День недели по-разному влияет на активность пользователей в Москве и Петербурге. \n",
    "\n",
    "Первая гипотеза полностью подтвердилась.\n",
    "\n",
    "2. Музыкальные предпочтения не сильно меняются в течение недели — будь то Москва или Петербург. Небольшие различия заметны в начале недели, по понедельникам:\n",
    "* в Москве слушают музыку жанра “world”,\n",
    "* в Петербурге — джаз и классику.\n",
    "\n",
    "Таким образом, вторая гипотеза подтвердилась лишь отчасти. Этот результат мог оказаться иным, если бы не пропуски в данных.\n",
    "\n",
    "3. Во вкусах пользователей Москвы и Петербурга больше общего чем различий. Вопреки ожиданиям, предпочтения жанров в Петербурге напоминают московские.\n",
    "\n",
    "Третья гипотеза не подтвердилась. Если различия в предпочтениях и существуют, на основной массе пользователей они незаметны.\n",
    "\n",
    "**На практике исследования содержат проверки статистических гипотез.**\n",
    "Из данных одного сервиса не всегда можно сделать вывод о всех жителях города.\n",
    "Проверки статистических гипотез покажут, насколько они достоверны, исходя из имеющихся данных. \n",
    "С методами проверок гипотез вы ещё познакомитесь в следующих темах."
   ]
  }
 ],
 "metadata": {
  "ExecuteTimeLog": [
   {
    "duration": 228,
    "start_time": "2022-02-19T11:35:58.013Z"
   },
   {
    "duration": 566,
    "start_time": "2022-02-19T11:36:11.664Z"
   },
   {
    "duration": 136,
    "start_time": "2022-02-19T11:36:14.686Z"
   },
   {
    "duration": 7,
    "start_time": "2022-02-19T11:36:17.927Z"
   },
   {
    "duration": 25,
    "start_time": "2022-02-19T11:36:25.175Z"
   },
   {
    "duration": 4,
    "start_time": "2022-02-19T11:36:32.192Z"
   },
   {
    "duration": 23,
    "start_time": "2022-02-19T11:36:37.739Z"
   },
   {
    "duration": 3,
    "start_time": "2022-02-19T11:36:53.163Z"
   },
   {
    "duration": 23,
    "start_time": "2022-02-19T11:39:29.182Z"
   },
   {
    "duration": 63,
    "start_time": "2022-02-19T11:44:29.039Z"
   },
   {
    "duration": 69,
    "start_time": "2022-02-19T11:44:50.844Z"
   },
   {
    "duration": 55,
    "start_time": "2022-02-19T11:45:21.290Z"
   },
   {
    "duration": 65,
    "start_time": "2022-02-19T11:47:30.086Z"
   },
   {
    "duration": 205,
    "start_time": "2022-02-19T11:47:35.022Z"
   },
   {
    "duration": 34,
    "start_time": "2022-02-19T11:47:44.990Z"
   },
   {
    "duration": 21,
    "start_time": "2022-02-19T11:48:56.795Z"
   },
   {
    "duration": 63,
    "start_time": "2022-02-19T11:49:40.341Z"
   },
   {
    "duration": 30,
    "start_time": "2022-02-19T11:49:46.596Z"
   },
   {
    "duration": 41,
    "start_time": "2022-02-19T11:49:49.165Z"
   },
   {
    "duration": 62,
    "start_time": "2022-02-19T11:51:23.510Z"
   },
   {
    "duration": 62,
    "start_time": "2022-02-19T11:52:38.683Z"
   },
   {
    "duration": 75,
    "start_time": "2022-02-19T11:52:42.749Z"
   },
   {
    "duration": 69,
    "start_time": "2022-02-19T11:52:51.938Z"
   },
   {
    "duration": 55,
    "start_time": "2022-02-19T11:53:01.193Z"
   },
   {
    "duration": 6,
    "start_time": "2022-02-19T11:55:03.098Z"
   },
   {
    "duration": 193,
    "start_time": "2022-02-19T11:58:28.718Z"
   },
   {
    "duration": 8,
    "start_time": "2022-02-19T11:59:46.366Z"
   },
   {
    "duration": 204,
    "start_time": "2022-02-19T12:00:16.405Z"
   },
   {
    "duration": 9,
    "start_time": "2022-02-19T12:00:38.132Z"
   },
   {
    "duration": 217,
    "start_time": "2022-02-19T12:01:32.852Z"
   },
   {
    "duration": 260,
    "start_time": "2022-02-19T12:01:57.341Z"
   },
   {
    "duration": 208,
    "start_time": "2022-02-19T12:02:19.359Z"
   },
   {
    "duration": 185,
    "start_time": "2022-02-19T12:02:29.357Z"
   },
   {
    "duration": 197,
    "start_time": "2022-02-19T12:02:40.495Z"
   },
   {
    "duration": 193,
    "start_time": "2022-02-19T12:02:45.530Z"
   },
   {
    "duration": 175,
    "start_time": "2022-02-19T12:03:04.162Z"
   },
   {
    "duration": 192,
    "start_time": "2022-02-19T12:03:26.122Z"
   },
   {
    "duration": 80,
    "start_time": "2022-02-19T12:03:37.290Z"
   },
   {
    "duration": 190,
    "start_time": "2022-02-19T12:03:43.314Z"
   },
   {
    "duration": 195,
    "start_time": "2022-02-19T12:04:19.673Z"
   },
   {
    "duration": 180,
    "start_time": "2022-02-19T12:04:22.882Z"
   },
   {
    "duration": 188,
    "start_time": "2022-02-19T12:05:12.405Z"
   },
   {
    "duration": 211,
    "start_time": "2022-02-19T12:05:25.233Z"
   },
   {
    "duration": 61,
    "start_time": "2022-02-19T12:05:29.569Z"
   },
   {
    "duration": 212,
    "start_time": "2022-02-19T12:05:32.900Z"
   },
   {
    "duration": 203,
    "start_time": "2022-02-19T12:05:40.877Z"
   },
   {
    "duration": 192,
    "start_time": "2022-02-19T12:05:48.424Z"
   },
   {
    "duration": 184,
    "start_time": "2022-02-19T12:05:58.532Z"
   },
   {
    "duration": 217,
    "start_time": "2022-02-19T12:06:05.635Z"
   },
   {
    "duration": 205,
    "start_time": "2022-02-19T12:06:09.678Z"
   },
   {
    "duration": 186,
    "start_time": "2022-02-19T12:06:17.716Z"
   },
   {
    "duration": 203,
    "start_time": "2022-02-19T12:06:20.331Z"
   },
   {
    "duration": 180,
    "start_time": "2022-02-19T12:06:24.091Z"
   },
   {
    "duration": 192,
    "start_time": "2022-02-19T12:06:29.749Z"
   },
   {
    "duration": 3,
    "start_time": "2022-02-19T12:06:37.139Z"
   },
   {
    "duration": 133,
    "start_time": "2022-02-19T12:06:40.076Z"
   },
   {
    "duration": 7,
    "start_time": "2022-02-19T12:06:42.611Z"
   },
   {
    "duration": 39,
    "start_time": "2022-02-19T12:06:46.503Z"
   },
   {
    "duration": 4,
    "start_time": "2022-02-19T12:06:53.163Z"
   },
   {
    "duration": 21,
    "start_time": "2022-02-19T12:06:56.187Z"
   },
   {
    "duration": 4,
    "start_time": "2022-02-19T12:06:59.130Z"
   },
   {
    "duration": 12,
    "start_time": "2022-02-19T12:07:11.435Z"
   },
   {
    "duration": 4,
    "start_time": "2022-02-19T12:07:13.261Z"
   },
   {
    "duration": 23,
    "start_time": "2022-02-19T12:07:15.395Z"
   },
   {
    "duration": 34,
    "start_time": "2022-02-19T12:07:18.875Z"
   },
   {
    "duration": 23,
    "start_time": "2022-02-19T12:07:21.514Z"
   },
   {
    "duration": 55,
    "start_time": "2022-02-19T12:07:23.450Z"
   },
   {
    "duration": 63,
    "start_time": "2022-02-19T12:07:25.754Z"
   },
   {
    "duration": 192,
    "start_time": "2022-02-19T12:07:28.174Z"
   },
   {
    "duration": 205,
    "start_time": "2022-02-19T12:07:45.739Z"
   },
   {
    "duration": 187,
    "start_time": "2022-02-19T12:08:25.707Z"
   },
   {
    "duration": 204,
    "start_time": "2022-02-19T12:08:28.843Z"
   },
   {
    "duration": 218,
    "start_time": "2022-02-19T12:08:58.531Z"
   },
   {
    "duration": 196,
    "start_time": "2022-02-19T12:08:59.666Z"
   },
   {
    "duration": 190,
    "start_time": "2022-02-19T12:09:00.435Z"
   },
   {
    "duration": 2,
    "start_time": "2022-02-19T12:09:00.796Z"
   },
   {
    "duration": 3,
    "start_time": "2022-02-19T12:09:01.163Z"
   },
   {
    "duration": 2,
    "start_time": "2022-02-19T12:09:01.539Z"
   },
   {
    "duration": 193,
    "start_time": "2022-02-19T12:09:41.139Z"
   },
   {
    "duration": 543,
    "start_time": "2022-02-19T12:09:45.553Z"
   },
   {
    "duration": 137,
    "start_time": "2022-02-19T12:09:46.267Z"
   },
   {
    "duration": 10,
    "start_time": "2022-02-19T12:09:46.626Z"
   },
   {
    "duration": 35,
    "start_time": "2022-02-19T12:09:46.979Z"
   },
   {
    "duration": 5,
    "start_time": "2022-02-19T12:09:47.873Z"
   },
   {
    "duration": 22,
    "start_time": "2022-02-19T12:09:48.217Z"
   },
   {
    "duration": 4,
    "start_time": "2022-02-19T12:09:48.561Z"
   },
   {
    "duration": 23,
    "start_time": "2022-02-19T12:09:48.922Z"
   },
   {
    "duration": 33,
    "start_time": "2022-02-19T12:09:51.242Z"
   },
   {
    "duration": 21,
    "start_time": "2022-02-19T12:09:52.131Z"
   },
   {
    "duration": 60,
    "start_time": "2022-02-19T12:09:55.433Z"
   },
   {
    "duration": 72,
    "start_time": "2022-02-19T12:09:57.421Z"
   },
   {
    "duration": 3,
    "start_time": "2022-02-19T12:10:29.843Z"
   },
   {
    "duration": 146,
    "start_time": "2022-02-19T12:10:30.169Z"
   },
   {
    "duration": 7,
    "start_time": "2022-02-19T12:10:30.521Z"
   },
   {
    "duration": 25,
    "start_time": "2022-02-19T12:10:30.850Z"
   },
   {
    "duration": 4,
    "start_time": "2022-02-19T12:10:31.720Z"
   },
   {
    "duration": 19,
    "start_time": "2022-02-19T12:10:32.083Z"
   },
   {
    "duration": 3,
    "start_time": "2022-02-19T12:10:32.436Z"
   },
   {
    "duration": 22,
    "start_time": "2022-02-19T12:10:32.800Z"
   },
   {
    "duration": 37,
    "start_time": "2022-02-19T12:10:33.626Z"
   },
   {
    "duration": 22,
    "start_time": "2022-02-19T12:10:34.128Z"
   },
   {
    "duration": 58,
    "start_time": "2022-02-19T12:10:35.020Z"
   },
   {
    "duration": 80,
    "start_time": "2022-02-19T12:10:36.610Z"
   },
   {
    "duration": 61,
    "start_time": "2022-02-19T12:10:41.930Z"
   },
   {
    "duration": 47,
    "start_time": "2022-02-19T12:10:47.257Z"
   },
   {
    "duration": 7,
    "start_time": "2022-02-19T12:10:50.251Z"
   },
   {
    "duration": 209,
    "start_time": "2022-02-19T12:11:50.284Z"
   },
   {
    "duration": 195,
    "start_time": "2022-02-19T12:12:00.900Z"
   },
   {
    "duration": 60,
    "start_time": "2022-02-19T12:16:51.255Z"
   },
   {
    "duration": 77,
    "start_time": "2022-02-19T12:16:57.836Z"
   },
   {
    "duration": 70,
    "start_time": "2022-02-19T12:17:04.481Z"
   },
   {
    "duration": 187,
    "start_time": "2022-02-19T12:17:11.019Z"
   },
   {
    "duration": 59,
    "start_time": "2022-02-19T12:18:00.795Z"
   },
   {
    "duration": 63,
    "start_time": "2022-02-19T12:18:10.187Z"
   },
   {
    "duration": 70,
    "start_time": "2022-02-19T12:18:29.699Z"
   },
   {
    "duration": 62,
    "start_time": "2022-02-19T12:18:38.676Z"
   },
   {
    "duration": 78,
    "start_time": "2022-02-19T12:18:42.563Z"
   },
   {
    "duration": 276,
    "start_time": "2022-02-19T12:18:50.371Z"
   },
   {
    "duration": 70,
    "start_time": "2022-02-19T12:19:32.714Z"
   },
   {
    "duration": 193,
    "start_time": "2022-02-19T12:19:38.472Z"
   },
   {
    "duration": 67,
    "start_time": "2022-02-19T12:20:59.578Z"
   },
   {
    "duration": 59,
    "start_time": "2022-02-19T12:21:07.217Z"
   },
   {
    "duration": 205,
    "start_time": "2022-02-19T12:21:18.009Z"
   },
   {
    "duration": 3,
    "start_time": "2022-02-19T12:21:25.554Z"
   },
   {
    "duration": 144,
    "start_time": "2022-02-19T12:21:25.887Z"
   },
   {
    "duration": 8,
    "start_time": "2022-02-19T12:21:26.242Z"
   },
   {
    "duration": 26,
    "start_time": "2022-02-19T12:21:26.600Z"
   },
   {
    "duration": 4,
    "start_time": "2022-02-19T12:21:27.496Z"
   },
   {
    "duration": 21,
    "start_time": "2022-02-19T12:21:27.856Z"
   },
   {
    "duration": 3,
    "start_time": "2022-02-19T12:21:28.640Z"
   },
   {
    "duration": 24,
    "start_time": "2022-02-19T12:21:29.553Z"
   },
   {
    "duration": 38,
    "start_time": "2022-02-19T12:21:30.752Z"
   },
   {
    "duration": 23,
    "start_time": "2022-02-19T12:21:31.488Z"
   },
   {
    "duration": 55,
    "start_time": "2022-02-19T12:21:32.642Z"
   },
   {
    "duration": 60,
    "start_time": "2022-02-19T12:21:33.954Z"
   },
   {
    "duration": 49,
    "start_time": "2022-02-19T12:21:35.105Z"
   },
   {
    "duration": 181,
    "start_time": "2022-02-19T12:22:44.799Z"
   },
   {
    "duration": 47,
    "start_time": "2022-02-19T12:23:08.167Z"
   },
   {
    "duration": 48,
    "start_time": "2022-02-19T12:23:20.663Z"
   },
   {
    "duration": 223,
    "start_time": "2022-02-19T12:24:23.312Z"
   },
   {
    "duration": 279,
    "start_time": "2022-02-19T12:24:34.234Z"
   },
   {
    "duration": 41,
    "start_time": "2022-02-19T12:24:42.006Z"
   },
   {
    "duration": 200,
    "start_time": "2022-02-19T12:32:31.248Z"
   },
   {
    "duration": 16,
    "start_time": "2022-02-19T12:33:22.339Z"
   },
   {
    "duration": 14,
    "start_time": "2022-02-19T12:34:25.150Z"
   },
   {
    "duration": 6,
    "start_time": "2022-02-19T12:34:59.182Z"
   },
   {
    "duration": 8,
    "start_time": "2022-02-19T12:36:52.790Z"
   },
   {
    "duration": 146,
    "start_time": "2022-02-19T12:36:59.442Z"
   },
   {
    "duration": 3,
    "start_time": "2022-02-19T12:37:01.696Z"
   },
   {
    "duration": 7,
    "start_time": "2022-02-19T12:38:56.338Z"
   },
   {
    "duration": 8,
    "start_time": "2022-02-19T12:39:18.715Z"
   },
   {
    "duration": 7,
    "start_time": "2022-02-19T12:39:28.529Z"
   },
   {
    "duration": 2,
    "start_time": "2022-02-19T12:39:30.065Z"
   },
   {
    "duration": 183,
    "start_time": "2022-02-19T12:44:08.865Z"
   },
   {
    "duration": 203,
    "start_time": "2022-02-19T12:44:18.847Z"
   },
   {
    "duration": 210,
    "start_time": "2022-02-19T13:06:56.015Z"
   },
   {
    "duration": 193,
    "start_time": "2022-02-19T13:07:07.186Z"
   },
   {
    "duration": 4537,
    "start_time": "2022-02-19T13:08:42.278Z"
   },
   {
    "duration": -831,
    "start_time": "2022-02-19T13:09:12.618Z"
   },
   {
    "duration": 4780,
    "start_time": "2022-02-19T13:09:14.843Z"
   },
   {
    "duration": 4,
    "start_time": "2022-02-19T13:09:20.595Z"
   },
   {
    "duration": 132,
    "start_time": "2022-02-19T13:09:21.148Z"
   },
   {
    "duration": 7,
    "start_time": "2022-02-19T13:09:21.510Z"
   },
   {
    "duration": 25,
    "start_time": "2022-02-19T13:09:21.844Z"
   },
   {
    "duration": 4,
    "start_time": "2022-02-19T13:09:22.723Z"
   },
   {
    "duration": 12,
    "start_time": "2022-02-19T13:09:23.083Z"
   },
   {
    "duration": 4,
    "start_time": "2022-02-19T13:09:23.486Z"
   },
   {
    "duration": 21,
    "start_time": "2022-02-19T13:09:24.493Z"
   },
   {
    "duration": 36,
    "start_time": "2022-02-19T13:09:25.480Z"
   },
   {
    "duration": 24,
    "start_time": "2022-02-19T13:09:26.052Z"
   },
   {
    "duration": 54,
    "start_time": "2022-02-19T13:09:28.245Z"
   },
   {
    "duration": 64,
    "start_time": "2022-02-19T13:09:29.267Z"
   },
   {
    "duration": 52,
    "start_time": "2022-02-19T13:09:29.915Z"
   },
   {
    "duration": 46,
    "start_time": "2022-02-19T13:09:31.195Z"
   },
   {
    "duration": 3,
    "start_time": "2022-02-19T13:09:32.299Z"
   },
   {
    "duration": 14,
    "start_time": "2022-02-19T13:09:33.251Z"
   },
   {
    "duration": 5,
    "start_time": "2022-02-19T13:09:34.187Z"
   },
   {
    "duration": -324,
    "start_time": "2022-02-19T13:09:52.256Z"
   },
   {
    "duration": 5260,
    "start_time": "2022-02-19T13:10:16.840Z"
   },
   {
    "duration": -296,
    "start_time": "2022-02-19T13:11:26.897Z"
   },
   {
    "duration": -304,
    "start_time": "2022-02-19T13:11:37.003Z"
   },
   {
    "duration": 4638,
    "start_time": "2022-02-19T13:12:29.273Z"
   },
   {
    "duration": -308,
    "start_time": "2022-02-19T13:12:34.221Z"
   },
   {
    "duration": -311,
    "start_time": "2022-02-19T13:12:34.226Z"
   },
   {
    "duration": 7,
    "start_time": "2022-02-19T13:12:33.955Z"
   },
   {
    "duration": 41,
    "start_time": "2022-02-19T13:12:38.802Z"
   },
   {
    "duration": 3,
    "start_time": "2022-02-19T13:12:39.809Z"
   },
   {
    "duration": 15,
    "start_time": "2022-02-19T13:12:40.177Z"
   },
   {
    "duration": 4,
    "start_time": "2022-02-19T13:12:40.547Z"
   },
   {
    "duration": 29,
    "start_time": "2022-02-19T13:12:40.946Z"
   },
   {
    "duration": 39,
    "start_time": "2022-02-19T13:12:41.505Z"
   },
   {
    "duration": 31,
    "start_time": "2022-02-19T13:12:41.907Z"
   },
   {
    "duration": 62,
    "start_time": "2022-02-19T13:12:42.297Z"
   },
   {
    "duration": 71,
    "start_time": "2022-02-19T13:12:42.667Z"
   },
   {
    "duration": 60,
    "start_time": "2022-02-19T13:12:43.097Z"
   },
   {
    "duration": 42,
    "start_time": "2022-02-19T13:12:43.649Z"
   },
   {
    "duration": 2,
    "start_time": "2022-02-19T13:12:44.017Z"
   },
   {
    "duration": 15,
    "start_time": "2022-02-19T13:12:44.388Z"
   },
   {
    "duration": 6,
    "start_time": "2022-02-19T13:12:44.783Z"
   },
   {
    "duration": -298,
    "start_time": "2022-02-19T13:13:04.712Z"
   },
   {
    "duration": 174,
    "start_time": "2022-02-19T13:13:24.160Z"
   },
   {
    "duration": 190,
    "start_time": "2022-02-19T13:14:19.640Z"
   },
   {
    "duration": 174,
    "start_time": "2022-02-19T13:14:46.367Z"
   },
   {
    "duration": 65,
    "start_time": "2022-02-19T13:16:37.263Z"
   },
   {
    "duration": 51,
    "start_time": "2022-02-19T13:19:56.027Z"
   },
   {
    "duration": 75,
    "start_time": "2022-02-19T13:37:18.075Z"
   },
   {
    "duration": 64,
    "start_time": "2022-02-19T13:37:38.577Z"
   },
   {
    "duration": 4,
    "start_time": "2022-02-19T13:38:12.710Z"
   },
   {
    "duration": 225,
    "start_time": "2022-02-19T13:52:38.212Z"
   },
   {
    "duration": 4,
    "start_time": "2022-02-19T13:54:37.667Z"
   },
   {
    "duration": 233,
    "start_time": "2022-02-19T13:54:40.887Z"
   },
   {
    "duration": 3,
    "start_time": "2022-02-19T13:55:56.673Z"
   },
   {
    "duration": 204,
    "start_time": "2022-02-19T13:55:58.705Z"
   },
   {
    "duration": 5,
    "start_time": "2022-02-19T13:56:52.872Z"
   },
   {
    "duration": 18,
    "start_time": "2022-02-19T13:56:54.303Z"
   },
   {
    "duration": 14,
    "start_time": "2022-02-19T13:56:55.383Z"
   },
   {
    "duration": 16,
    "start_time": "2022-02-19T13:56:56.216Z"
   },
   {
    "duration": 18,
    "start_time": "2022-02-19T13:56:56.838Z"
   },
   {
    "duration": 17,
    "start_time": "2022-02-19T13:56:58.055Z"
   },
   {
    "duration": 15,
    "start_time": "2022-02-19T13:57:02.933Z"
   },
   {
    "duration": 5,
    "start_time": "2022-02-19T13:58:08.334Z"
   },
   {
    "duration": 16,
    "start_time": "2022-02-19T13:58:12.097Z"
   },
   {
    "duration": 5,
    "start_time": "2022-02-19T13:58:56.136Z"
   },
   {
    "duration": 14,
    "start_time": "2022-02-19T13:59:29.697Z"
   },
   {
    "duration": 15,
    "start_time": "2022-02-19T14:01:19.376Z"
   },
   {
    "duration": 13,
    "start_time": "2022-02-19T14:01:59.964Z"
   },
   {
    "duration": 13,
    "start_time": "2022-02-19T14:04:04.315Z"
   },
   {
    "duration": 16,
    "start_time": "2022-02-19T14:04:12.505Z"
   },
   {
    "duration": 5167,
    "start_time": "2022-02-19T14:07:05.768Z"
   },
   {
    "duration": -387,
    "start_time": "2022-02-19T14:07:11.324Z"
   },
   {
    "duration": 11,
    "start_time": "2022-02-19T14:07:31.920Z"
   },
   {
    "duration": 9,
    "start_time": "2022-02-19T14:07:47.767Z"
   },
   {
    "duration": 61,
    "start_time": "2022-02-19T14:19:28.512Z"
   },
   {
    "duration": 64,
    "start_time": "2022-02-19T14:19:50.022Z"
   },
   {
    "duration": 64,
    "start_time": "2022-02-19T14:22:31.881Z"
   },
   {
    "duration": 64,
    "start_time": "2022-02-19T14:22:38.525Z"
   },
   {
    "duration": 5,
    "start_time": "2022-02-19T14:22:43.132Z"
   },
   {
    "duration": 4,
    "start_time": "2022-02-19T14:26:58.474Z"
   },
   {
    "duration": 174,
    "start_time": "2022-02-19T14:31:27.527Z"
   },
   {
    "duration": 4,
    "start_time": "2022-02-19T14:35:26.030Z"
   },
   {
    "duration": 434,
    "start_time": "2022-02-19T14:35:28.389Z"
   },
   {
    "duration": 779,
    "start_time": "2022-02-19T14:35:29.771Z"
   },
   {
    "duration": 3,
    "start_time": "2022-02-19T14:35:59.796Z"
   },
   {
    "duration": 428,
    "start_time": "2022-02-19T14:36:03.095Z"
   },
   {
    "duration": 402,
    "start_time": "2022-02-19T14:36:05.532Z"
   },
   {
    "duration": 4,
    "start_time": "2022-02-19T14:41:17.528Z"
   },
   {
    "duration": 379,
    "start_time": "2022-02-19T14:41:23.159Z"
   },
   {
    "duration": 10,
    "start_time": "2022-02-19T14:43:10.687Z"
   },
   {
    "duration": 447,
    "start_time": "2022-02-19T14:43:13.631Z"
   },
   {
    "duration": 371,
    "start_time": "2022-02-19T14:43:14.592Z"
   },
   {
    "duration": 61,
    "start_time": "2022-02-19T14:43:27.951Z"
   },
   {
    "duration": 4,
    "start_time": "2022-02-19T14:45:57.949Z"
   },
   {
    "duration": 4,
    "start_time": "2022-02-19T14:46:00.525Z"
   },
   {
    "duration": 4,
    "start_time": "2022-02-19T14:47:26.411Z"
   },
   {
    "duration": 484,
    "start_time": "2022-02-19T14:47:30.139Z"
   },
   {
    "duration": 414,
    "start_time": "2022-02-19T14:47:30.965Z"
   },
   {
    "duration": 494,
    "start_time": "2022-02-19T14:47:35.259Z"
   },
   {
    "duration": 4,
    "start_time": "2022-02-19T14:48:01.939Z"
   },
   {
    "duration": 5,
    "start_time": "2022-02-19T14:49:49.130Z"
   },
   {
    "duration": 5,
    "start_time": "2022-02-19T14:50:52.386Z"
   },
   {
    "duration": 7,
    "start_time": "2022-02-19T14:50:57.600Z"
   },
   {
    "duration": 6,
    "start_time": "2022-02-19T14:52:01.400Z"
   },
   {
    "duration": 432,
    "start_time": "2022-02-19T14:52:06.856Z"
   },
   {
    "duration": 419,
    "start_time": "2022-02-19T14:52:08.696Z"
   },
   {
    "duration": 395,
    "start_time": "2022-02-19T14:52:09.720Z"
   },
   {
    "duration": 361,
    "start_time": "2022-02-19T14:52:11.464Z"
   },
   {
    "duration": 5,
    "start_time": "2022-02-19T14:52:41.564Z"
   },
   {
    "duration": 422,
    "start_time": "2022-02-19T14:52:44.324Z"
   },
   {
    "duration": 398,
    "start_time": "2022-02-19T14:52:44.817Z"
   },
   {
    "duration": 371,
    "start_time": "2022-02-19T14:52:46.256Z"
   },
   {
    "duration": 31,
    "start_time": "2022-02-19T14:53:21.898Z"
   },
   {
    "duration": 391,
    "start_time": "2022-02-19T14:53:25.007Z"
   },
   {
    "duration": 417,
    "start_time": "2022-02-19T14:53:26.183Z"
   },
   {
    "duration": 4,
    "start_time": "2022-02-19T14:53:38.356Z"
   },
   {
    "duration": 390,
    "start_time": "2022-02-19T14:53:43.025Z"
   },
   {
    "duration": 4,
    "start_time": "2022-02-19T14:54:09.759Z"
   },
   {
    "duration": 410,
    "start_time": "2022-02-19T14:54:11.760Z"
   },
   {
    "duration": 379,
    "start_time": "2022-02-19T14:54:12.910Z"
   },
   {
    "duration": 5,
    "start_time": "2022-02-19T14:54:40.816Z"
   },
   {
    "duration": 364,
    "start_time": "2022-02-19T14:54:45.279Z"
   },
   {
    "duration": 387,
    "start_time": "2022-02-19T14:54:46.286Z"
   },
   {
    "duration": 5,
    "start_time": "2022-02-19T14:55:03.046Z"
   },
   {
    "duration": 697,
    "start_time": "2022-02-19T14:55:05.623Z"
   },
   {
    "duration": 4,
    "start_time": "2022-02-19T14:57:19.453Z"
   },
   {
    "duration": 408,
    "start_time": "2022-02-19T14:57:21.581Z"
   },
   {
    "duration": 390,
    "start_time": "2022-02-19T14:57:22.843Z"
   },
   {
    "duration": 3,
    "start_time": "2022-02-19T14:57:43.845Z"
   },
   {
    "duration": 389,
    "start_time": "2022-02-19T14:57:45.790Z"
   },
   {
    "duration": 394,
    "start_time": "2022-02-19T14:57:47.476Z"
   },
   {
    "duration": 6,
    "start_time": "2022-02-19T14:58:20.692Z"
   },
   {
    "duration": 188,
    "start_time": "2022-02-19T14:58:39.664Z"
   },
   {
    "duration": 6,
    "start_time": "2022-02-19T14:58:50.212Z"
   },
   {
    "duration": 397,
    "start_time": "2022-02-19T14:58:52.948Z"
   },
   {
    "duration": 411,
    "start_time": "2022-02-19T14:58:54.403Z"
   },
   {
    "duration": 228,
    "start_time": "2022-02-19T14:59:37.443Z"
   },
   {
    "duration": 6,
    "start_time": "2022-02-19T15:01:09.354Z"
   },
   {
    "duration": 382,
    "start_time": "2022-02-19T15:01:11.970Z"
   },
   {
    "duration": 4,
    "start_time": "2022-02-19T15:01:26.971Z"
   },
   {
    "duration": 4,
    "start_time": "2022-02-19T15:01:46.441Z"
   },
   {
    "duration": 414,
    "start_time": "2022-02-19T15:01:47.705Z"
   },
   {
    "duration": 385,
    "start_time": "2022-02-19T15:01:48.425Z"
   },
   {
    "duration": 6,
    "start_time": "2022-02-19T15:06:50.009Z"
   },
   {
    "duration": 407,
    "start_time": "2022-02-19T15:06:55.128Z"
   },
   {
    "duration": 374,
    "start_time": "2022-02-19T15:06:56.354Z"
   },
   {
    "duration": 6,
    "start_time": "2022-02-19T15:07:11.534Z"
   },
   {
    "duration": 396,
    "start_time": "2022-02-19T15:07:19.246Z"
   },
   {
    "duration": 4,
    "start_time": "2022-02-19T15:09:06.701Z"
   },
   {
    "duration": 377,
    "start_time": "2022-02-19T15:09:07.452Z"
   },
   {
    "duration": 3,
    "start_time": "2022-02-19T15:10:41.779Z"
   },
   {
    "duration": 379,
    "start_time": "2022-02-19T15:10:44.314Z"
   },
   {
    "duration": 4,
    "start_time": "2022-02-19T15:11:35.596Z"
   },
   {
    "duration": 391,
    "start_time": "2022-02-19T15:11:37.794Z"
   },
   {
    "duration": 4,
    "start_time": "2022-02-19T15:14:23.785Z"
   },
   {
    "duration": 378,
    "start_time": "2022-02-19T15:14:26.040Z"
   },
   {
    "duration": 4,
    "start_time": "2022-02-19T15:14:42.257Z"
   },
   {
    "duration": 420,
    "start_time": "2022-02-19T15:14:46.006Z"
   },
   {
    "duration": 4,
    "start_time": "2022-02-19T15:16:35.081Z"
   },
   {
    "duration": 4840,
    "start_time": "2022-02-19T15:16:37.878Z"
   },
   {
    "duration": -495,
    "start_time": "2022-02-19T15:16:43.214Z"
   },
   {
    "duration": -497,
    "start_time": "2022-02-19T15:16:43.218Z"
   },
   {
    "duration": 4838,
    "start_time": "2022-02-19T15:16:50.543Z"
   },
   {
    "duration": 4,
    "start_time": "2022-02-19T15:17:25.945Z"
   },
   {
    "duration": 410,
    "start_time": "2022-02-19T15:17:30.478Z"
   },
   {
    "duration": 396,
    "start_time": "2022-02-19T15:17:36.016Z"
   },
   {
    "duration": 4,
    "start_time": "2022-02-19T15:17:57.381Z"
   },
   {
    "duration": 24,
    "start_time": "2022-02-19T15:18:02.901Z"
   },
   {
    "duration": 4,
    "start_time": "2022-02-19T15:18:23.646Z"
   },
   {
    "duration": 23,
    "start_time": "2022-02-19T15:18:29.109Z"
   },
   {
    "duration": 24,
    "start_time": "2022-02-19T15:18:30.107Z"
   },
   {
    "duration": 23,
    "start_time": "2022-02-19T15:18:30.989Z"
   },
   {
    "duration": 23,
    "start_time": "2022-02-19T15:18:31.725Z"
   },
   {
    "duration": 4,
    "start_time": "2022-02-19T15:24:05.618Z"
   },
   {
    "duration": 21,
    "start_time": "2022-02-19T15:24:11.752Z"
   },
   {
    "duration": 5,
    "start_time": "2022-02-19T15:25:35.057Z"
   },
   {
    "duration": 18,
    "start_time": "2022-02-19T15:25:40.024Z"
   },
   {
    "duration": 13,
    "start_time": "2022-02-19T15:25:43.656Z"
   },
   {
    "duration": 18,
    "start_time": "2022-02-19T15:25:44.136Z"
   },
   {
    "duration": 12,
    "start_time": "2022-02-19T15:25:44.612Z"
   },
   {
    "duration": 4,
    "start_time": "2022-02-19T15:27:09.938Z"
   },
   {
    "duration": 18,
    "start_time": "2022-02-19T15:27:12.023Z"
   },
   {
    "duration": 14,
    "start_time": "2022-02-19T15:27:12.886Z"
   },
   {
    "duration": 19,
    "start_time": "2022-02-19T15:27:13.592Z"
   },
   {
    "duration": 14,
    "start_time": "2022-02-19T15:27:14.177Z"
   },
   {
    "duration": 4,
    "start_time": "2022-02-19T15:28:07.194Z"
   },
   {
    "duration": 4,
    "start_time": "2022-02-19T15:29:37.087Z"
   },
   {
    "duration": 19,
    "start_time": "2022-02-19T15:29:39.101Z"
   },
   {
    "duration": 13,
    "start_time": "2022-02-19T15:29:40.093Z"
   },
   {
    "duration": 18,
    "start_time": "2022-02-19T15:29:40.612Z"
   },
   {
    "duration": 15,
    "start_time": "2022-02-19T15:29:41.020Z"
   },
   {
    "duration": 194,
    "start_time": "2022-02-19T15:33:15.851Z"
   },
   {
    "duration": 203,
    "start_time": "2022-02-19T15:33:47.162Z"
   },
   {
    "duration": 209,
    "start_time": "2022-02-19T15:34:02.042Z"
   },
   {
    "duration": 212,
    "start_time": "2022-02-19T15:34:06.578Z"
   },
   {
    "duration": 7,
    "start_time": "2022-02-19T15:34:59.153Z"
   },
   {
    "duration": 188,
    "start_time": "2022-02-19T15:35:03.016Z"
   },
   {
    "duration": 185,
    "start_time": "2022-02-19T15:36:32.799Z"
   },
   {
    "duration": 191,
    "start_time": "2022-02-19T15:38:17.951Z"
   },
   {
    "duration": 6,
    "start_time": "2022-02-19T15:38:35.613Z"
   },
   {
    "duration": 5,
    "start_time": "2022-02-19T15:38:41.286Z"
   },
   {
    "duration": 173,
    "start_time": "2022-02-19T15:39:06.925Z"
   },
   {
    "duration": 4,
    "start_time": "2022-02-19T15:39:57.261Z"
   },
   {
    "duration": 4,
    "start_time": "2022-02-19T15:39:59.141Z"
   },
   {
    "duration": 180,
    "start_time": "2022-02-19T15:40:56.996Z"
   },
   {
    "duration": 254,
    "start_time": "2022-02-19T15:40:59.332Z"
   },
   {
    "duration": 202,
    "start_time": "2022-02-19T15:42:25.178Z"
   },
   {
    "duration": 5,
    "start_time": "2022-02-19T15:42:59.368Z"
   },
   {
    "duration": 5,
    "start_time": "2022-02-19T15:43:00.785Z"
   },
   {
    "duration": 6,
    "start_time": "2022-02-19T15:43:02.969Z"
   },
   {
    "duration": 4,
    "start_time": "2022-02-19T15:43:03.481Z"
   },
   {
    "duration": 200,
    "start_time": "2022-02-19T15:43:04.161Z"
   },
   {
    "duration": 185,
    "start_time": "2022-02-19T15:43:05.065Z"
   },
   {
    "duration": 200,
    "start_time": "2022-02-19T15:43:28.850Z"
   },
   {
    "duration": 16,
    "start_time": "2022-02-19T15:43:36.609Z"
   },
   {
    "duration": 183,
    "start_time": "2022-02-19T15:44:16.147Z"
   },
   {
    "duration": 6,
    "start_time": "2022-02-19T15:44:37.816Z"
   },
   {
    "duration": 4,
    "start_time": "2022-02-19T15:44:39.366Z"
   },
   {
    "duration": 251,
    "start_time": "2022-02-19T15:45:05.841Z"
   },
   {
    "duration": 194,
    "start_time": "2022-02-19T15:45:18.284Z"
   },
   {
    "duration": 20,
    "start_time": "2022-02-19T15:45:43.464Z"
   },
   {
    "duration": 5,
    "start_time": "2022-02-19T15:45:45.416Z"
   },
   {
    "duration": 5,
    "start_time": "2022-02-19T15:47:56.775Z"
   },
   {
    "duration": 5,
    "start_time": "2022-02-19T15:47:57.965Z"
   },
   {
    "duration": 190,
    "start_time": "2022-02-19T15:48:14.782Z"
   },
   {
    "duration": 5,
    "start_time": "2022-02-19T15:48:22.207Z"
   },
   {
    "duration": 4,
    "start_time": "2022-02-19T15:48:31.446Z"
   },
   {
    "duration": 4,
    "start_time": "2022-02-19T15:48:49.691Z"
   },
   {
    "duration": 183,
    "start_time": "2022-02-19T15:49:38.599Z"
   },
   {
    "duration": 186,
    "start_time": "2022-02-19T15:49:55.972Z"
   },
   {
    "duration": 6,
    "start_time": "2022-02-19T15:50:25.862Z"
   },
   {
    "duration": 184,
    "start_time": "2022-02-19T15:50:30.397Z"
   },
   {
    "duration": 193,
    "start_time": "2022-02-19T15:51:22.436Z"
   },
   {
    "duration": 185,
    "start_time": "2022-02-19T15:52:57.410Z"
   },
   {
    "duration": 192,
    "start_time": "2022-02-19T15:53:31.871Z"
   },
   {
    "duration": 187,
    "start_time": "2022-02-19T15:53:34.561Z"
   },
   {
    "duration": 5,
    "start_time": "2022-02-19T15:53:47.676Z"
   },
   {
    "duration": 5,
    "start_time": "2022-02-19T15:54:12.065Z"
   },
   {
    "duration": 183,
    "start_time": "2022-02-19T15:56:06.977Z"
   },
   {
    "duration": 5,
    "start_time": "2022-02-19T15:57:29.134Z"
   },
   {
    "duration": 2,
    "start_time": "2022-02-19T15:59:33.557Z"
   },
   {
    "duration": 130,
    "start_time": "2022-02-19T15:59:35.798Z"
   },
   {
    "duration": 7,
    "start_time": "2022-02-19T15:59:37.629Z"
   },
   {
    "duration": 23,
    "start_time": "2022-02-19T15:59:44.142Z"
   },
   {
    "duration": 4,
    "start_time": "2022-02-19T15:59:49.075Z"
   },
   {
    "duration": 12,
    "start_time": "2022-02-19T15:59:52.069Z"
   },
   {
    "duration": 3,
    "start_time": "2022-02-19T15:59:52.820Z"
   },
   {
    "duration": 22,
    "start_time": "2022-02-19T15:59:54.518Z"
   },
   {
    "duration": 33,
    "start_time": "2022-02-19T15:59:59.468Z"
   },
   {
    "duration": 24,
    "start_time": "2022-02-19T16:00:12.990Z"
   },
   {
    "duration": 53,
    "start_time": "2022-02-19T16:00:16.812Z"
   },
   {
    "duration": 57,
    "start_time": "2022-02-19T16:00:18.541Z"
   },
   {
    "duration": 46,
    "start_time": "2022-02-19T16:00:18.900Z"
   },
   {
    "duration": 45,
    "start_time": "2022-02-19T16:00:19.443Z"
   },
   {
    "duration": 3,
    "start_time": "2022-02-19T16:00:19.803Z"
   },
   {
    "duration": 15,
    "start_time": "2022-02-19T16:00:20.175Z"
   },
   {
    "duration": 6,
    "start_time": "2022-02-19T16:00:20.532Z"
   },
   {
    "duration": 41,
    "start_time": "2022-02-19T16:00:21.685Z"
   },
   {
    "duration": 41,
    "start_time": "2022-02-19T16:00:22.068Z"
   },
   {
    "duration": 3,
    "start_time": "2022-02-19T16:00:22.629Z"
   },
   {
    "duration": 390,
    "start_time": "2022-02-19T16:00:23.028Z"
   },
   {
    "duration": -394,
    "start_time": "2022-02-19T16:00:23.813Z"
   },
   {
    "duration": -395,
    "start_time": "2022-02-19T16:00:23.815Z"
   },
   {
    "duration": 389,
    "start_time": "2022-02-19T16:00:23.559Z"
   },
   {
    "duration": -389,
    "start_time": "2022-02-19T16:00:24.339Z"
   },
   {
    "duration": -391,
    "start_time": "2022-02-19T16:00:24.342Z"
   },
   {
    "duration": 16,
    "start_time": "2022-02-19T16:00:24.317Z"
   },
   {
    "duration": 13,
    "start_time": "2022-02-19T16:00:25.243Z"
   },
   {
    "duration": 41,
    "start_time": "2022-02-19T16:00:40.595Z"
   },
   {
    "duration": 4,
    "start_time": "2022-02-19T16:00:43.508Z"
   },
   {
    "duration": 4,
    "start_time": "2022-02-19T16:01:17.837Z"
   },
   {
    "duration": 394,
    "start_time": "2022-02-19T16:01:19.188Z"
   },
   {
    "duration": 476,
    "start_time": "2022-02-19T16:01:19.876Z"
   },
   {
    "duration": 362,
    "start_time": "2022-02-19T16:01:20.539Z"
   },
   {
    "duration": 3,
    "start_time": "2022-02-19T16:01:47.420Z"
   },
   {
    "duration": 20,
    "start_time": "2022-02-19T16:01:49.219Z"
   },
   {
    "duration": 17,
    "start_time": "2022-02-19T16:01:51.068Z"
   },
   {
    "duration": 19,
    "start_time": "2022-02-19T16:01:51.299Z"
   },
   {
    "duration": 19,
    "start_time": "2022-02-19T16:01:51.500Z"
   },
   {
    "duration": 19,
    "start_time": "2022-02-19T16:01:51.675Z"
   },
   {
    "duration": 18,
    "start_time": "2022-02-19T16:01:51.858Z"
   },
   {
    "duration": 3,
    "start_time": "2022-02-19T16:02:54.204Z"
   },
   {
    "duration": 16,
    "start_time": "2022-02-19T16:02:55.867Z"
   },
   {
    "duration": 15,
    "start_time": "2022-02-19T16:02:56.567Z"
   },
   {
    "duration": 15,
    "start_time": "2022-02-19T16:02:57.027Z"
   },
   {
    "duration": 13,
    "start_time": "2022-02-19T16:02:57.331Z"
   },
   {
    "duration": 16,
    "start_time": "2022-02-19T16:02:57.651Z"
   },
   {
    "duration": 15,
    "start_time": "2022-02-19T16:02:58.291Z"
   },
   {
    "duration": 15,
    "start_time": "2022-02-19T16:02:59.723Z"
   },
   {
    "duration": 15,
    "start_time": "2022-02-19T16:04:00.261Z"
   },
   {
    "duration": 14,
    "start_time": "2022-02-19T16:04:17.938Z"
   },
   {
    "duration": 14,
    "start_time": "2022-02-19T16:04:21.121Z"
   },
   {
    "duration": 11,
    "start_time": "2022-02-19T16:04:21.577Z"
   },
   {
    "duration": 4,
    "start_time": "2022-02-19T16:04:22.569Z"
   },
   {
    "duration": 18,
    "start_time": "2022-02-19T16:04:24.505Z"
   },
   {
    "duration": 14,
    "start_time": "2022-02-19T16:04:25.201Z"
   },
   {
    "duration": 19,
    "start_time": "2022-02-19T16:04:25.785Z"
   },
   {
    "duration": 13,
    "start_time": "2022-02-19T16:04:26.991Z"
   },
   {
    "duration": 227,
    "start_time": "2022-02-19T16:04:29.577Z"
   },
   {
    "duration": 7,
    "start_time": "2022-02-19T16:04:41.394Z"
   },
   {
    "duration": 4,
    "start_time": "2022-02-19T16:04:43.155Z"
   },
   {
    "duration": 7,
    "start_time": "2022-02-19T16:04:50.089Z"
   },
   {
    "duration": 4,
    "start_time": "2022-02-19T16:04:50.881Z"
   },
   {
    "duration": 5,
    "start_time": "2022-02-19T16:04:52.260Z"
   },
   {
    "duration": 3,
    "start_time": "2022-02-19T16:04:53.393Z"
   },
   {
    "duration": 667,
    "start_time": "2022-02-28T20:00:24.634Z"
   },
   {
    "duration": 151,
    "start_time": "2022-02-28T20:00:25.304Z"
   },
   {
    "duration": 8,
    "start_time": "2022-02-28T20:00:25.457Z"
   },
   {
    "duration": 48,
    "start_time": "2022-02-28T20:00:25.467Z"
   },
   {
    "duration": 5,
    "start_time": "2022-02-28T20:00:25.518Z"
   },
   {
    "duration": 36,
    "start_time": "2022-02-28T20:00:25.525Z"
   },
   {
    "duration": 4,
    "start_time": "2022-02-28T20:00:25.563Z"
   },
   {
    "duration": 25,
    "start_time": "2022-02-28T20:00:25.571Z"
   },
   {
    "duration": 35,
    "start_time": "2022-02-28T20:00:25.599Z"
   },
   {
    "duration": 44,
    "start_time": "2022-02-28T20:00:25.636Z"
   },
   {
    "duration": 73,
    "start_time": "2022-02-28T20:00:25.681Z"
   },
   {
    "duration": 72,
    "start_time": "2022-02-28T20:00:25.763Z"
   },
   {
    "duration": 69,
    "start_time": "2022-02-28T20:00:25.837Z"
   },
   {
    "duration": 59,
    "start_time": "2022-02-28T20:00:25.908Z"
   },
   {
    "duration": 3,
    "start_time": "2022-02-28T20:00:25.969Z"
   },
   {
    "duration": 37,
    "start_time": "2022-02-28T20:00:25.974Z"
   },
   {
    "duration": 23,
    "start_time": "2022-02-28T20:00:26.013Z"
   },
   {
    "duration": 76,
    "start_time": "2022-02-28T20:00:26.038Z"
   },
   {
    "duration": 49,
    "start_time": "2022-02-28T20:00:26.116Z"
   },
   {
    "duration": 3,
    "start_time": "2022-02-28T20:00:26.167Z"
   },
   {
    "duration": 42,
    "start_time": "2022-02-28T20:00:26.171Z"
   },
   {
    "duration": 35,
    "start_time": "2022-02-28T20:00:26.215Z"
   },
   {
    "duration": 39,
    "start_time": "2022-02-28T20:00:26.255Z"
   },
   {
    "duration": 30,
    "start_time": "2022-02-28T20:00:26.297Z"
   },
   {
    "duration": 19,
    "start_time": "2022-02-28T20:00:26.330Z"
   },
   {
    "duration": 16,
    "start_time": "2022-02-28T20:00:26.351Z"
   },
   {
    "duration": 16,
    "start_time": "2022-02-28T20:00:26.370Z"
   },
   {
    "duration": 16,
    "start_time": "2022-02-28T20:00:26.388Z"
   },
   {
    "duration": 13,
    "start_time": "2022-02-28T20:00:26.406Z"
   },
   {
    "duration": 5,
    "start_time": "2022-02-28T20:00:26.421Z"
   },
   {
    "duration": 49,
    "start_time": "2022-02-28T20:00:26.428Z"
   },
   {
    "duration": 16,
    "start_time": "2022-02-28T20:00:26.480Z"
   },
   {
    "duration": 21,
    "start_time": "2022-02-28T20:00:26.498Z"
   },
   {
    "duration": 43,
    "start_time": "2022-02-28T20:00:26.521Z"
   },
   {
    "duration": 9,
    "start_time": "2022-02-28T20:00:26.566Z"
   },
   {
    "duration": 6,
    "start_time": "2022-02-28T20:00:26.576Z"
   },
   {
    "duration": 14,
    "start_time": "2022-02-28T20:00:26.584Z"
   },
   {
    "duration": 5,
    "start_time": "2022-02-28T20:00:26.600Z"
   },
   {
    "duration": 11,
    "start_time": "2022-02-28T20:00:53.358Z"
   },
   {
    "duration": 273,
    "start_time": "2022-02-28T20:08:02.928Z"
   },
   {
    "duration": 8,
    "start_time": "2022-02-28T20:08:22.856Z"
   },
   {
    "duration": 620,
    "start_time": "2022-02-28T20:08:41.778Z"
   },
   {
    "duration": 142,
    "start_time": "2022-02-28T20:08:42.400Z"
   },
   {
    "duration": 25,
    "start_time": "2022-02-28T20:08:42.544Z"
   },
   {
    "duration": 29,
    "start_time": "2022-02-28T20:08:42.572Z"
   },
   {
    "duration": 4,
    "start_time": "2022-02-28T20:08:42.603Z"
   },
   {
    "duration": 22,
    "start_time": "2022-02-28T20:08:42.609Z"
   },
   {
    "duration": 6,
    "start_time": "2022-02-28T20:08:42.632Z"
   },
   {
    "duration": 48,
    "start_time": "2022-02-28T20:08:42.639Z"
   },
   {
    "duration": 34,
    "start_time": "2022-02-28T20:08:42.690Z"
   },
   {
    "duration": 46,
    "start_time": "2022-02-28T20:08:42.726Z"
   },
   {
    "duration": 62,
    "start_time": "2022-02-28T20:08:42.774Z"
   },
   {
    "duration": 87,
    "start_time": "2022-02-28T20:08:42.838Z"
   },
   {
    "duration": 68,
    "start_time": "2022-02-28T20:08:42.927Z"
   },
   {
    "duration": 52,
    "start_time": "2022-02-28T20:08:42.997Z"
   },
   {
    "duration": 13,
    "start_time": "2022-02-28T20:08:43.050Z"
   },
   {
    "duration": 17,
    "start_time": "2022-02-28T20:08:43.065Z"
   },
   {
    "duration": 7,
    "start_time": "2022-02-28T20:08:43.084Z"
   },
   {
    "duration": 24,
    "start_time": "2022-02-28T20:08:43.093Z"
   },
   {
    "duration": 15,
    "start_time": "2022-02-28T20:08:43.119Z"
   },
   {
    "duration": 4,
    "start_time": "2022-02-28T20:08:43.162Z"
   },
   {
    "duration": 24,
    "start_time": "2022-02-28T20:08:43.168Z"
   },
   {
    "duration": 15,
    "start_time": "2022-02-28T20:08:43.193Z"
   },
   {
    "duration": 15,
    "start_time": "2022-02-28T20:08:43.210Z"
   },
   {
    "duration": 39,
    "start_time": "2022-02-28T20:08:43.227Z"
   },
   {
    "duration": 18,
    "start_time": "2022-02-28T20:08:43.268Z"
   },
   {
    "duration": 16,
    "start_time": "2022-02-28T20:08:43.288Z"
   },
   {
    "duration": 8,
    "start_time": "2022-02-28T20:08:43.307Z"
   },
   {
    "duration": 14,
    "start_time": "2022-02-28T20:08:43.317Z"
   },
   {
    "duration": 38,
    "start_time": "2022-02-28T20:08:43.334Z"
   },
   {
    "duration": 6,
    "start_time": "2022-02-28T20:08:43.374Z"
   },
   {
    "duration": 28,
    "start_time": "2022-02-28T20:08:43.382Z"
   },
   {
    "duration": 15,
    "start_time": "2022-02-28T20:08:43.412Z"
   },
   {
    "duration": 42,
    "start_time": "2022-02-28T20:08:43.428Z"
   },
   {
    "duration": 14,
    "start_time": "2022-02-28T20:08:43.472Z"
   },
   {
    "duration": 7,
    "start_time": "2022-02-28T20:08:43.487Z"
   },
   {
    "duration": 4,
    "start_time": "2022-02-28T20:08:43.496Z"
   },
   {
    "duration": 10,
    "start_time": "2022-02-28T20:08:43.501Z"
   },
   {
    "duration": 4,
    "start_time": "2022-02-28T20:08:43.512Z"
   }
  ],
  "colab": {
   "collapsed_sections": [
    "E0vqbgi9ay0H",
    "VUC88oWjTJw2"
   ],
   "name": "yandex_music_project_2021.2.ipynb",
   "provenance": []
  },
  "kernelspec": {
   "display_name": "Python 3 (ipykernel)",
   "language": "python",
   "name": "python3"
  },
  "language_info": {
   "codemirror_mode": {
    "name": "ipython",
    "version": 3
   },
   "file_extension": ".py",
   "mimetype": "text/x-python",
   "name": "python",
   "nbconvert_exporter": "python",
   "pygments_lexer": "ipython3",
   "version": "3.9.7"
  },
  "toc": {
   "base_numbering": 1,
   "nav_menu": {},
   "number_sections": true,
   "sideBar": true,
   "skip_h1_title": true,
   "title_cell": "Table of Contents",
   "title_sidebar": "Contents",
   "toc_cell": false,
   "toc_position": {},
   "toc_section_display": true,
   "toc_window_display": false
  }
 },
 "nbformat": 4,
 "nbformat_minor": 1
}
